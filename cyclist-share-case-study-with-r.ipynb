{
 "cells": [
  {
   "cell_type": "markdown",
   "id": "08505b06",
   "metadata": {
    "papermill": {
     "duration": 0.014037,
     "end_time": "2024-06-15T22:26:01.762020",
     "exception": false,
     "start_time": "2024-06-15T22:26:01.747983",
     "status": "completed"
    },
    "tags": []
   },
   "source": [
    "## Scenario\n",
    "\n",
    "I am a junior data analyst working on the marketing analyst team at Cyclistic, a bike-share company in Chicago.The director of marketing believes the company’s future success depends on maximizing the number of annual memberships. Therefore, my team wants to understand how casual riders and annual members use Cyclistic bikes differently. From these insights, my team will design a new marketing strategy to convert casual riders into annual members. But first, Cyclistic executives must approve my recommendations.\n",
    "\n",
    "\n"
   ]
  },
  {
   "cell_type": "markdown",
   "id": "e98c73d9",
   "metadata": {
    "papermill": {
     "duration": 0.013034,
     "end_time": "2024-06-15T22:26:01.789102",
     "exception": false,
     "start_time": "2024-06-15T22:26:01.776068",
     "status": "completed"
    },
    "tags": []
   },
   "source": [
    "## Introduction\n",
    "\n",
    "Welcome to the Cyclistic bike-share analysis case study! In this case study, I work for a fictional company, Cyclistic, along with some key team members. In order to answer the business questions, follow the steps of the data analysis process: \n",
    "1. Ask\n",
    "2. Prepare\n",
    "3. Process\n",
    "4. Analyze\n",
    "5. Share\n",
    "6. Act."
   ]
  },
  {
   "cell_type": "markdown",
   "id": "c92b6177",
   "metadata": {
    "papermill": {
     "duration": 0.012919,
     "end_time": "2024-06-15T22:26:01.815213",
     "exception": false,
     "start_time": "2024-06-15T22:26:01.802294",
     "status": "completed"
    },
    "tags": []
   },
   "source": [
    "## Characters and teams\n",
    "\n",
    "● Cyclistic: A bike-share program that features more than 5,800 bicycles and 600\n",
    "docking stations. Cyclistic sets itself apart by also offering reclining bikes, hand\n",
    "tricycles, and cargo bikes, making bike-share more inclusive to people with disabilities\n",
    "and riders who can’t use a standard two-wheeled bike. The majority of riders opt for\n",
    "traditional bikes; about 8% of riders use the assistive options. Cyclistic users are more\n",
    "likely to ride for leisure, but about 30% use the bikes to commute to work each day.\n",
    "\n",
    "● Lily Moreno: The director of marketing and your manager. Moreno is responsible for\n",
    "the development of campaigns and initiatives to promote the bike-share program.\n",
    "These may include email, social media, and other channels.\n",
    "\n",
    "● Cyclistic marketing analytics team: A team of data analysts who are responsible for\n",
    "collecting, analyzing, and reporting data that helps guide Cyclistic marketing strategy.\n",
    "You joined this team six months ago and have been busy learning about Cyclistic’s\n",
    "mission and business goals—as well as how you, as a junior data analyst, can help\n",
    "Cyclistic achieve them.\n",
    "\n",
    "● Cyclistic executive team: The notoriously detail-oriented executive team will decide\n",
    "whether to approve the recommended marketing program.\n",
    "\n"
   ]
  },
  {
   "cell_type": "markdown",
   "id": "0408bb33",
   "metadata": {
    "papermill": {
     "duration": 0.012892,
     "end_time": "2024-06-15T22:26:01.841112",
     "exception": false,
     "start_time": "2024-06-15T22:26:01.828220",
     "status": "completed"
    },
    "tags": []
   },
   "source": [
    "## About the company\n",
    "\n",
    "In 2016, Cyclistic launched a successful bike-share offering. Since then, the program has grown\n",
    "to a fleet of 5,824 bicycles that are geotracked and locked into a network of 692 stations\n",
    "across Chicago. The bikes can be unlocked from one station and returned to any other station\n",
    "in the system anytime.\n",
    "Until now, Cyclistic’s marketing strategy relied on building general awareness and appealing to\n",
    "broad consumer segments. One approach that helped make these things possible was the\n",
    "flexibility of its pricing plans: single-ride passes, full-day passes, and annual memberships.\n",
    "Customers who purchase single-ride or full-day passes are referred to as casual riders.\n",
    "Customers who purchase annual memberships are Cyclistic members.\n",
    "Cyclistic’s finance analysts have concluded that annual members are much more profitable\n",
    "than casual riders. Although the pricing flexibility helps Cyclistic attract more customers,\n",
    "Moreno believes that maximizing the number of annual members will be key to future growth.\n",
    "Rather than creating a marketing campaign that targets all-new customers, Moreno believes\n",
    "there is a solid opportunity to convert casual riders into members. She notes that casual riders\n",
    "are already aware of the Cyclistic program and have chosen Cyclistic for their mobility needs.\n",
    "Moreno has set a clear goal: Design marketing strategies aimed at converting casual riders into\n",
    "annual members. In order to do that, however, the team needs to better understand how\n",
    "annual members and casual riders differ, why casual riders would buy a membership, and how\n",
    "digital media could affect their marketing tactics. Moreno and her team are interested in\n",
    "analyzing the Cyclistic historical bike trip data to identify trends."
   ]
  },
  {
   "cell_type": "markdown",
   "id": "618195da",
   "metadata": {
    "papermill": {
     "duration": 0.01354,
     "end_time": "2024-06-15T22:26:01.867419",
     "exception": false,
     "start_time": "2024-06-15T22:26:01.853879",
     "status": "completed"
    },
    "tags": []
   },
   "source": [
    "## Environment Setup:"
   ]
  },
  {
   "cell_type": "code",
   "execution_count": 1,
   "id": "1395157b",
   "metadata": {
    "_kg_hide-output": true,
    "execution": {
     "iopub.execute_input": "2024-06-15T22:26:01.899090Z",
     "iopub.status.busy": "2024-06-15T22:26:01.896502Z",
     "iopub.status.idle": "2024-06-15T22:26:04.066717Z",
     "shell.execute_reply": "2024-06-15T22:26:04.064252Z"
    },
    "papermill": {
     "duration": 2.189457,
     "end_time": "2024-06-15T22:26:04.069981",
     "exception": false,
     "start_time": "2024-06-15T22:26:01.880524",
     "status": "completed"
    },
    "scrolled": true,
    "tags": []
   },
   "outputs": [
    {
     "name": "stderr",
     "output_type": "stream",
     "text": [
      "── \u001b[1mAttaching core tidyverse packages\u001b[22m ──────────────────────── tidyverse 2.0.0 ──\n",
      "\u001b[32m✔\u001b[39m \u001b[34mdplyr    \u001b[39m 1.1.4     \u001b[32m✔\u001b[39m \u001b[34mreadr    \u001b[39m 2.1.4\n",
      "\u001b[32m✔\u001b[39m \u001b[34mforcats  \u001b[39m 1.0.0     \u001b[32m✔\u001b[39m \u001b[34mstringr  \u001b[39m 1.5.1\n",
      "\u001b[32m✔\u001b[39m \u001b[34mggplot2  \u001b[39m 3.4.4     \u001b[32m✔\u001b[39m \u001b[34mtibble   \u001b[39m 3.2.1\n",
      "\u001b[32m✔\u001b[39m \u001b[34mlubridate\u001b[39m 1.9.3     \u001b[32m✔\u001b[39m \u001b[34mtidyr    \u001b[39m 1.3.0\n",
      "\u001b[32m✔\u001b[39m \u001b[34mpurrr    \u001b[39m 1.0.2     \n",
      "── \u001b[1mConflicts\u001b[22m ────────────────────────────────────────── tidyverse_conflicts() ──\n",
      "\u001b[31m✖\u001b[39m \u001b[34mdplyr\u001b[39m::\u001b[32mfilter()\u001b[39m masks \u001b[34mstats\u001b[39m::filter()\n",
      "\u001b[31m✖\u001b[39m \u001b[34mdplyr\u001b[39m::\u001b[32mlag()\u001b[39m    masks \u001b[34mstats\u001b[39m::lag()\n",
      "\u001b[36mℹ\u001b[39m Use the conflicted package (\u001b[3m\u001b[34m<http://conflicted.r-lib.org/>\u001b[39m\u001b[23m) to force all conflicts to become errors\n",
      "\n",
      "Attaching package: ‘magrittr’\n",
      "\n",
      "\n",
      "The following object is masked from ‘package:purrr’:\n",
      "\n",
      "    set_names\n",
      "\n",
      "\n",
      "The following object is masked from ‘package:tidyr’:\n",
      "\n",
      "    extract\n",
      "\n",
      "\n",
      "corrplot 0.92 loaded\n",
      "\n",
      "here() starts at /kaggle/working\n",
      "\n",
      "\n",
      "Attaching package: ‘janitor’\n",
      "\n",
      "\n",
      "The following objects are masked from ‘package:stats’:\n",
      "\n",
      "    chisq.test, fisher.test\n",
      "\n",
      "\n"
     ]
    }
   ],
   "source": [
    "library(tidyverse)\n",
    "library(tidyr)\n",
    "library(dplyr)\n",
    "library(readr)\n",
    "library(magrittr)\n",
    "library(lubridate)\n",
    "library(corrplot)\n",
    "library(ggplot2)\n",
    "library(here)\n",
    "library(skimr)\n",
    "library(janitor)\n",
    "library(geosphere)"
   ]
  },
  {
   "cell_type": "markdown",
   "id": "dcd09260",
   "metadata": {
    "papermill": {
     "duration": 0.013804,
     "end_time": "2024-06-15T22:26:04.097667",
     "exception": false,
     "start_time": "2024-06-15T22:26:04.083863",
     "status": "completed"
    },
    "tags": []
   },
   "source": [
    "## Importing datasets"
   ]
  },
  {
   "cell_type": "code",
   "execution_count": 2,
   "id": "608c0178",
   "metadata": {
    "execution": {
     "iopub.execute_input": "2024-06-15T22:26:04.167108Z",
     "iopub.status.busy": "2024-06-15T22:26:04.127919Z",
     "iopub.status.idle": "2024-06-15T22:28:29.071705Z",
     "shell.execute_reply": "2024-06-15T22:28:29.069197Z"
    },
    "papermill": {
     "duration": 144.96515,
     "end_time": "2024-06-15T22:28:29.076265",
     "exception": false,
     "start_time": "2024-06-15T22:26:04.111115",
     "status": "completed"
    },
    "scrolled": true,
    "tags": []
   },
   "outputs": [],
   "source": [
    "april_2021 <- read.csv(\"../input/bike-trips/202104-divvy-tripdata.csv\")\n",
    "may_2021 <- read.csv(\"../input/bike-trips/202105-divvy-tripdata.csv\")\n",
    "june_2021 <- read.csv(\"../input/bike-trips/202106-divvy-tripdata.csv\")\n",
    "july_2021 <- read.csv(\"../input/bike-trips/202107-divvy-tripdata.csv\")\n",
    "august_2021 <- read.csv(\"../input/bike-trips/202108-divvy-tripdata.csv\")\n",
    "september_2021 <- read.csv(\"../input/bike-trips/202109-divvy-tripdata.csv\")\n",
    "october_2021 <- read.csv(\"../input/bike-trips/202110-divvy-tripdata.csv\")\n",
    "november_2021 <- read.csv(\"../input/bike-trips/202111-divvy-tripdata.csv\")\n",
    "december_2021 <- read.csv(\"../input/bike-trips/202112-divvy-tripdata.csv\")\n",
    "january_2022 <- read.csv(\"../input/bike-trips/202201-divvy-tripdata.csv\")\n",
    "february_2022 <- read.csv(\"../input/bike-trips/202202-divvy-tripdata.csv\")\n",
    "march_2022 <- read.csv(\"../input/bike-trips/202203-divvy-tripdata.csv\")"
   ]
  },
  {
   "cell_type": "markdown",
   "id": "f354f45d",
   "metadata": {
    "papermill": {
     "duration": 0.014134,
     "end_time": "2024-06-15T22:28:29.105703",
     "exception": false,
     "start_time": "2024-06-15T22:28:29.091569",
     "status": "completed"
    },
    "tags": []
   },
   "source": [
    "# finding the number of distinct ID's present in the datasets;"
   ]
  },
  {
   "cell_type": "code",
   "execution_count": 3,
   "id": "be9998b4",
   "metadata": {
    "_kg_hide-output": true,
    "execution": {
     "iopub.execute_input": "2024-06-15T22:28:29.138156Z",
     "iopub.status.busy": "2024-06-15T22:28:29.136040Z",
     "iopub.status.idle": "2024-06-15T22:28:38.141529Z",
     "shell.execute_reply": "2024-06-15T22:28:38.139067Z"
    },
    "papermill": {
     "duration": 9.024779,
     "end_time": "2024-06-15T22:28:38.144570",
     "exception": false,
     "start_time": "2024-06-15T22:28:29.119791",
     "status": "completed"
    },
    "scrolled": true,
    "tags": []
   },
   "outputs": [
    {
     "data": {
      "text/html": [
       "337230"
      ],
      "text/latex": [
       "337230"
      ],
      "text/markdown": [
       "337230"
      ],
      "text/plain": [
       "[1] 337230"
      ]
     },
     "metadata": {},
     "output_type": "display_data"
    },
    {
     "data": {
      "text/html": [
       "531633"
      ],
      "text/latex": [
       "531633"
      ],
      "text/markdown": [
       "531633"
      ],
      "text/plain": [
       "[1] 531633"
      ]
     },
     "metadata": {},
     "output_type": "display_data"
    },
    {
     "data": {
      "text/html": [
       "729595"
      ],
      "text/latex": [
       "729595"
      ],
      "text/markdown": [
       "729595"
      ],
      "text/plain": [
       "[1] 729595"
      ]
     },
     "metadata": {},
     "output_type": "display_data"
    },
    {
     "data": {
      "text/html": [
       "822410"
      ],
      "text/latex": [
       "822410"
      ],
      "text/markdown": [
       "822410"
      ],
      "text/plain": [
       "[1] 822410"
      ]
     },
     "metadata": {},
     "output_type": "display_data"
    },
    {
     "data": {
      "text/html": [
       "804352"
      ],
      "text/latex": [
       "804352"
      ],
      "text/markdown": [
       "804352"
      ],
      "text/plain": [
       "[1] 804352"
      ]
     },
     "metadata": {},
     "output_type": "display_data"
    },
    {
     "data": {
      "text/html": [
       "756147"
      ],
      "text/latex": [
       "756147"
      ],
      "text/markdown": [
       "756147"
      ],
      "text/plain": [
       "[1] 756147"
      ]
     },
     "metadata": {},
     "output_type": "display_data"
    },
    {
     "data": {
      "text/html": [
       "631226"
      ],
      "text/latex": [
       "631226"
      ],
      "text/markdown": [
       "631226"
      ],
      "text/plain": [
       "[1] 631226"
      ]
     },
     "metadata": {},
     "output_type": "display_data"
    },
    {
     "data": {
      "text/html": [
       "359978"
      ],
      "text/latex": [
       "359978"
      ],
      "text/markdown": [
       "359978"
      ],
      "text/plain": [
       "[1] 359978"
      ]
     },
     "metadata": {},
     "output_type": "display_data"
    },
    {
     "data": {
      "text/html": [
       "247540"
      ],
      "text/latex": [
       "247540"
      ],
      "text/markdown": [
       "247540"
      ],
      "text/plain": [
       "[1] 247540"
      ]
     },
     "metadata": {},
     "output_type": "display_data"
    },
    {
     "data": {
      "text/html": [
       "103770"
      ],
      "text/latex": [
       "103770"
      ],
      "text/markdown": [
       "103770"
      ],
      "text/plain": [
       "[1] 103770"
      ]
     },
     "metadata": {},
     "output_type": "display_data"
    },
    {
     "data": {
      "text/html": [
       "115609"
      ],
      "text/latex": [
       "115609"
      ],
      "text/markdown": [
       "115609"
      ],
      "text/plain": [
       "[1] 115609"
      ]
     },
     "metadata": {},
     "output_type": "display_data"
    },
    {
     "data": {
      "text/html": [
       "284042"
      ],
      "text/latex": [
       "284042"
      ],
      "text/markdown": [
       "284042"
      ],
      "text/plain": [
       "[1] 284042"
      ]
     },
     "metadata": {},
     "output_type": "display_data"
    }
   ],
   "source": [
    "\n",
    "n_distinct(april_2021$ride_id)\n",
    "n_distinct(may_2021$ride_id)\n",
    "n_distinct(june_2021$ride_id)\n",
    "n_distinct(july_2021$ride_id)\n",
    "n_distinct(august_2021$ride_id)\n",
    "n_distinct(september_2021$ride_id)\n",
    "n_distinct(october_2021$ride_id)\n",
    "n_distinct(november_2021$ride_id)\n",
    "n_distinct(december_2021$ride_id)\n",
    "n_distinct(january_2022$ride_id)\n",
    "n_distinct(february_2022$ride_id)\n",
    "n_distinct(march_2022$ride_id)"
   ]
  },
  {
   "cell_type": "markdown",
   "id": "9f61c030",
   "metadata": {
    "papermill": {
     "duration": 0.015905,
     "end_time": "2024-06-15T22:28:38.176871",
     "exception": false,
     "start_time": "2024-06-15T22:28:38.160966",
     "status": "completed"
    },
    "tags": []
   },
   "source": [
    "# finding if there are any NA values present in the datasets;"
   ]
  },
  {
   "cell_type": "code",
   "execution_count": 4,
   "id": "7e6b5435",
   "metadata": {
    "_kg_hide-output": true,
    "execution": {
     "iopub.execute_input": "2024-06-15T22:28:38.214029Z",
     "iopub.status.busy": "2024-06-15T22:28:38.211978Z",
     "iopub.status.idle": "2024-06-15T22:28:40.426552Z",
     "shell.execute_reply": "2024-06-15T22:28:40.424113Z"
    },
    "papermill": {
     "duration": 2.236289,
     "end_time": "2024-06-15T22:28:40.429794",
     "exception": false,
     "start_time": "2024-06-15T22:28:38.193505",
     "status": "completed"
    },
    "scrolled": true,
    "tags": []
   },
   "outputs": [
    {
     "data": {
      "text/html": [
       "534"
      ],
      "text/latex": [
       "534"
      ],
      "text/markdown": [
       "534"
      ],
      "text/plain": [
       "[1] 534"
      ]
     },
     "metadata": {},
     "output_type": "display_data"
    },
    {
     "data": {
      "text/html": [
       "904"
      ],
      "text/latex": [
       "904"
      ],
      "text/markdown": [
       "904"
      ],
      "text/plain": [
       "[1] 904"
      ]
     },
     "metadata": {},
     "output_type": "display_data"
    },
    {
     "data": {
      "text/html": [
       "1434"
      ],
      "text/latex": [
       "1434"
      ],
      "text/markdown": [
       "1434"
      ],
      "text/plain": [
       "[1] 1434"
      ]
     },
     "metadata": {},
     "output_type": "display_data"
    },
    {
     "data": {
      "text/html": [
       "1462"
      ],
      "text/latex": [
       "1462"
      ],
      "text/markdown": [
       "1462"
      ],
      "text/plain": [
       "[1] 1462"
      ]
     },
     "metadata": {},
     "output_type": "display_data"
    },
    {
     "data": {
      "text/html": [
       "1412"
      ],
      "text/latex": [
       "1412"
      ],
      "text/markdown": [
       "1412"
      ],
      "text/plain": [
       "[1] 1412"
      ]
     },
     "metadata": {},
     "output_type": "display_data"
    },
    {
     "data": {
      "text/html": [
       "1190"
      ],
      "text/latex": [
       "1190"
      ],
      "text/markdown": [
       "1190"
      ],
      "text/plain": [
       "[1] 1190"
      ]
     },
     "metadata": {},
     "output_type": "display_data"
    },
    {
     "data": {
      "text/html": [
       "968"
      ],
      "text/latex": [
       "968"
      ],
      "text/markdown": [
       "968"
      ],
      "text/plain": [
       "[1] 968"
      ]
     },
     "metadata": {},
     "output_type": "display_data"
    },
    {
     "data": {
      "text/html": [
       "382"
      ],
      "text/latex": [
       "382"
      ],
      "text/markdown": [
       "382"
      ],
      "text/plain": [
       "[1] 382"
      ]
     },
     "metadata": {},
     "output_type": "display_data"
    },
    {
     "data": {
      "text/html": [
       "288"
      ],
      "text/latex": [
       "288"
      ],
      "text/markdown": [
       "288"
      ],
      "text/plain": [
       "[1] 288"
      ]
     },
     "metadata": {},
     "output_type": "display_data"
    },
    {
     "data": {
      "text/html": [
       "172"
      ],
      "text/latex": [
       "172"
      ],
      "text/markdown": [
       "172"
      ],
      "text/plain": [
       "[1] 172"
      ]
     },
     "metadata": {},
     "output_type": "display_data"
    },
    {
     "data": {
      "text/html": [
       "154"
      ],
      "text/latex": [
       "154"
      ],
      "text/markdown": [
       "154"
      ],
      "text/plain": [
       "[1] 154"
      ]
     },
     "metadata": {},
     "output_type": "display_data"
    },
    {
     "data": {
      "text/html": [
       "532"
      ],
      "text/latex": [
       "532"
      ],
      "text/markdown": [
       "532"
      ],
      "text/plain": [
       "[1] 532"
      ]
     },
     "metadata": {},
     "output_type": "display_data"
    }
   ],
   "source": [
    "sum(is.na(april_2021))\n",
    "sum(is.na(may_2021))\n",
    "sum(is.na(june_2021))\n",
    "sum(is.na(july_2021))\n",
    "sum(is.na(august_2021))\n",
    "sum(is.na(september_2021))\n",
    "sum(is.na(october_2021))\n",
    "sum(is.na(november_2021))\n",
    "sum(is.na(december_2021))\n",
    "sum(is.na(january_2022))\n",
    "sum(is.na(february_2022))\n",
    "sum(is.na(march_2022))"
   ]
  },
  {
   "cell_type": "markdown",
   "id": "2bddaf8b",
   "metadata": {
    "papermill": {
     "duration": 0.018628,
     "end_time": "2024-06-15T22:28:40.466428",
     "exception": false,
     "start_time": "2024-06-15T22:28:40.447800",
     "status": "completed"
    },
    "tags": []
   },
   "source": [
    "# Removing the NA values present in the datasets;"
   ]
  },
  {
   "cell_type": "code",
   "execution_count": 5,
   "id": "7ba35cee",
   "metadata": {
    "_kg_hide-output": true,
    "execution": {
     "iopub.execute_input": "2024-06-15T22:28:40.508952Z",
     "iopub.status.busy": "2024-06-15T22:28:40.506993Z",
     "iopub.status.idle": "2024-06-15T22:28:53.756104Z",
     "shell.execute_reply": "2024-06-15T22:28:53.753586Z"
    },
    "papermill": {
     "duration": 13.274236,
     "end_time": "2024-06-15T22:28:53.759764",
     "exception": false,
     "start_time": "2024-06-15T22:28:40.485528",
     "status": "completed"
    },
    "scrolled": true,
    "tags": []
   },
   "outputs": [
    {
     "data": {
      "text/html": [
       "0"
      ],
      "text/latex": [
       "0"
      ],
      "text/markdown": [
       "0"
      ],
      "text/plain": [
       "[1] 0"
      ]
     },
     "metadata": {},
     "output_type": "display_data"
    },
    {
     "data": {
      "text/html": [
       "0"
      ],
      "text/latex": [
       "0"
      ],
      "text/markdown": [
       "0"
      ],
      "text/plain": [
       "[1] 0"
      ]
     },
     "metadata": {},
     "output_type": "display_data"
    },
    {
     "data": {
      "text/html": [
       "0"
      ],
      "text/latex": [
       "0"
      ],
      "text/markdown": [
       "0"
      ],
      "text/plain": [
       "[1] 0"
      ]
     },
     "metadata": {},
     "output_type": "display_data"
    },
    {
     "data": {
      "text/html": [
       "0"
      ],
      "text/latex": [
       "0"
      ],
      "text/markdown": [
       "0"
      ],
      "text/plain": [
       "[1] 0"
      ]
     },
     "metadata": {},
     "output_type": "display_data"
    },
    {
     "data": {
      "text/html": [
       "0"
      ],
      "text/latex": [
       "0"
      ],
      "text/markdown": [
       "0"
      ],
      "text/plain": [
       "[1] 0"
      ]
     },
     "metadata": {},
     "output_type": "display_data"
    },
    {
     "data": {
      "text/html": [
       "0"
      ],
      "text/latex": [
       "0"
      ],
      "text/markdown": [
       "0"
      ],
      "text/plain": [
       "[1] 0"
      ]
     },
     "metadata": {},
     "output_type": "display_data"
    },
    {
     "data": {
      "text/html": [
       "0"
      ],
      "text/latex": [
       "0"
      ],
      "text/markdown": [
       "0"
      ],
      "text/plain": [
       "[1] 0"
      ]
     },
     "metadata": {},
     "output_type": "display_data"
    },
    {
     "data": {
      "text/html": [
       "0"
      ],
      "text/latex": [
       "0"
      ],
      "text/markdown": [
       "0"
      ],
      "text/plain": [
       "[1] 0"
      ]
     },
     "metadata": {},
     "output_type": "display_data"
    },
    {
     "data": {
      "text/html": [
       "0"
      ],
      "text/latex": [
       "0"
      ],
      "text/markdown": [
       "0"
      ],
      "text/plain": [
       "[1] 0"
      ]
     },
     "metadata": {},
     "output_type": "display_data"
    },
    {
     "data": {
      "text/html": [
       "0"
      ],
      "text/latex": [
       "0"
      ],
      "text/markdown": [
       "0"
      ],
      "text/plain": [
       "[1] 0"
      ]
     },
     "metadata": {},
     "output_type": "display_data"
    },
    {
     "data": {
      "text/html": [
       "0"
      ],
      "text/latex": [
       "0"
      ],
      "text/markdown": [
       "0"
      ],
      "text/plain": [
       "[1] 0"
      ]
     },
     "metadata": {},
     "output_type": "display_data"
    },
    {
     "data": {
      "text/html": [
       "0"
      ],
      "text/latex": [
       "0"
      ],
      "text/markdown": [
       "0"
      ],
      "text/plain": [
       "[1] 0"
      ]
     },
     "metadata": {},
     "output_type": "display_data"
    }
   ],
   "source": [
    "\n",
    "ap_2021 <- april_2021 %>% \n",
    "  select(ride_id,rideable_type,started_at,ended_at,start_station_name,end_station_name,start_lat,start_lng,end_lat,end_lng,member_casual) %>% \n",
    "  drop_na()\n",
    "\n",
    "sum(is.na(ap_2021))\n",
    "\n",
    "my_2021 <- may_2021 %>% \n",
    "  select(ride_id,rideable_type,started_at,ended_at,start_station_name,end_station_name,start_lat,start_lng,end_lat,end_lng,member_casual) %>% \n",
    "  drop_na()\n",
    "\n",
    "sum(is.na(my_2021))\n",
    "\n",
    "jun_2021 <- june_2021 %>% \n",
    "  select(ride_id,rideable_type,started_at,ended_at,start_station_name,end_station_name,start_lat,start_lng,end_lat,end_lng,member_casual) %>% \n",
    "  drop_na()\n",
    "\n",
    "sum(is.na(jun_2021))\n",
    "\n",
    "jul_2021 <- july_2021 %>% \n",
    "  select(ride_id,rideable_type,start_station_name,end_station_name,started_at,ended_at,start_lat,start_lng,end_lat,end_lng,member_casual) %>% \n",
    "  drop_na()\n",
    "\n",
    "sum(is.na(jul_2021))\n",
    "\n",
    "aug_2021 <- august_2021 %>% \n",
    "  select(ride_id,rideable_type,start_station_name,end_station_name,started_at,ended_at,start_lat,start_lng,end_lat,end_lng,member_casual) %>% \n",
    "  drop_na()\n",
    "\n",
    "sum(is.na(aug_2021))\n",
    "\n",
    "sep_2021 <- september_2021 %>% \n",
    "  select(ride_id,rideable_type,start_station_name,end_station_name,started_at,ended_at,start_lat,start_lng,end_lat,end_lng,member_casual) %>% \n",
    "  drop_na()\n",
    "\n",
    "sum(is.na(sep_2021))\n",
    "\n",
    "oct_2021 <- october_2021 %>% \n",
    "  select(ride_id,rideable_type,start_station_name,end_station_name,started_at,ended_at,start_lat,start_lng,end_lat,end_lng,member_casual) %>% \n",
    "  drop_na()\n",
    "\n",
    "sum(is.na(oct_2021))\n",
    "\n",
    "novem_2021 <- november_2021 %>% \n",
    "  select(ride_id,rideable_type,start_station_name,end_station_name,started_at,ended_at,start_lat,start_lng,end_lat,end_lng,member_casual) %>% \n",
    "  drop_na()\n",
    "\n",
    "sum(is.na(novem_2021))\n",
    "\n",
    "decem_2021 <- december_2021 %>% \n",
    "  select(ride_id,rideable_type,start_station_name,end_station_name,started_at,ended_at,start_lat,start_lng,end_lat,end_lng,member_casual) %>% \n",
    "  drop_na()\n",
    "\n",
    "sum(is.na(decem_2021))\n",
    "\n",
    "jan_2022 <- january_2022 %>% \n",
    "  select(ride_id,rideable_type,start_station_name,end_station_name,started_at,ended_at,start_lat,start_lng,end_lat,end_lng,member_casual) %>% \n",
    "  drop_na()\n",
    "\n",
    "sum(is.na(jan_2022))\n",
    "\n",
    "feb_2022 <- february_2022 %>% \n",
    "  select(ride_id,rideable_type,start_station_name,end_station_name,started_at,ended_at,start_lat,start_lng,end_lat,end_lng,member_casual) %>% \n",
    "  drop_na()\n",
    "\n",
    "sum(is.na(feb_2022))\n",
    "\n",
    "mar_2022 <- march_2022 %>% \n",
    "  select(ride_id,rideable_type,start_station_name,end_station_name,started_at,ended_at,start_lat,start_lng,end_lat,end_lng,member_casual) %>% \n",
    "  drop_na()\n",
    "\n",
    "sum(is.na(mar_2022))"
   ]
  },
  {
   "cell_type": "markdown",
   "id": "3d8a9824",
   "metadata": {
    "papermill": {
     "duration": 0.021658,
     "end_time": "2024-06-15T22:28:53.806357",
     "exception": false,
     "start_time": "2024-06-15T22:28:53.784699",
     "status": "completed"
    },
    "tags": []
   },
   "source": [
    "# checking for duplicates;"
   ]
  },
  {
   "cell_type": "code",
   "execution_count": 6,
   "id": "381e430c",
   "metadata": {
    "_kg_hide-output": true,
    "execution": {
     "iopub.execute_input": "2024-06-15T22:28:53.854183Z",
     "iopub.status.busy": "2024-06-15T22:28:53.851595Z",
     "iopub.status.idle": "2024-06-15T22:31:31.137634Z",
     "shell.execute_reply": "2024-06-15T22:31:31.135220Z"
    },
    "papermill": {
     "duration": 157.313792,
     "end_time": "2024-06-15T22:31:31.141150",
     "exception": false,
     "start_time": "2024-06-15T22:28:53.827358",
     "status": "completed"
    },
    "scrolled": true,
    "tags": []
   },
   "outputs": [
    {
     "data": {
      "text/html": [
       "0"
      ],
      "text/latex": [
       "0"
      ],
      "text/markdown": [
       "0"
      ],
      "text/plain": [
       "[1] 0"
      ]
     },
     "metadata": {},
     "output_type": "display_data"
    },
    {
     "data": {
      "text/html": [
       "0"
      ],
      "text/latex": [
       "0"
      ],
      "text/markdown": [
       "0"
      ],
      "text/plain": [
       "[1] 0"
      ]
     },
     "metadata": {},
     "output_type": "display_data"
    },
    {
     "data": {
      "text/html": [
       "0"
      ],
      "text/latex": [
       "0"
      ],
      "text/markdown": [
       "0"
      ],
      "text/plain": [
       "[1] 0"
      ]
     },
     "metadata": {},
     "output_type": "display_data"
    },
    {
     "data": {
      "text/html": [
       "0"
      ],
      "text/latex": [
       "0"
      ],
      "text/markdown": [
       "0"
      ],
      "text/plain": [
       "[1] 0"
      ]
     },
     "metadata": {},
     "output_type": "display_data"
    },
    {
     "data": {
      "text/html": [
       "0"
      ],
      "text/latex": [
       "0"
      ],
      "text/markdown": [
       "0"
      ],
      "text/plain": [
       "[1] 0"
      ]
     },
     "metadata": {},
     "output_type": "display_data"
    },
    {
     "data": {
      "text/html": [
       "0"
      ],
      "text/latex": [
       "0"
      ],
      "text/markdown": [
       "0"
      ],
      "text/plain": [
       "[1] 0"
      ]
     },
     "metadata": {},
     "output_type": "display_data"
    },
    {
     "data": {
      "text/html": [
       "0"
      ],
      "text/latex": [
       "0"
      ],
      "text/markdown": [
       "0"
      ],
      "text/plain": [
       "[1] 0"
      ]
     },
     "metadata": {},
     "output_type": "display_data"
    },
    {
     "data": {
      "text/html": [
       "0"
      ],
      "text/latex": [
       "0"
      ],
      "text/markdown": [
       "0"
      ],
      "text/plain": [
       "[1] 0"
      ]
     },
     "metadata": {},
     "output_type": "display_data"
    },
    {
     "data": {
      "text/html": [
       "0"
      ],
      "text/latex": [
       "0"
      ],
      "text/markdown": [
       "0"
      ],
      "text/plain": [
       "[1] 0"
      ]
     },
     "metadata": {},
     "output_type": "display_data"
    },
    {
     "data": {
      "text/html": [
       "0"
      ],
      "text/latex": [
       "0"
      ],
      "text/markdown": [
       "0"
      ],
      "text/plain": [
       "[1] 0"
      ]
     },
     "metadata": {},
     "output_type": "display_data"
    },
    {
     "data": {
      "text/html": [
       "0"
      ],
      "text/latex": [
       "0"
      ],
      "text/markdown": [
       "0"
      ],
      "text/plain": [
       "[1] 0"
      ]
     },
     "metadata": {},
     "output_type": "display_data"
    },
    {
     "data": {
      "text/html": [
       "0"
      ],
      "text/latex": [
       "0"
      ],
      "text/markdown": [
       "0"
      ],
      "text/plain": [
       "[1] 0"
      ]
     },
     "metadata": {},
     "output_type": "display_data"
    }
   ],
   "source": [
    "\n",
    "sum(duplicated(ap_2021))\n",
    "sum(duplicated(my_2021))\n",
    "sum(duplicated(jun_2021))\n",
    "sum(duplicated(jul_2021))\n",
    "sum(duplicated(aug_2021))\n",
    "sum(duplicated(sep_2021))\n",
    "sum(duplicated(oct_2021))\n",
    "sum(duplicated(novem_2021))\n",
    "sum(duplicated(decem_2021))\n",
    "sum(duplicated(jan_2022))\n",
    "sum(duplicated(feb_2022))\n",
    "sum(duplicated(mar_2022))"
   ]
  },
  {
   "cell_type": "markdown",
   "id": "313d2f0b",
   "metadata": {
    "papermill": {
     "duration": 0.023364,
     "end_time": "2024-06-15T22:31:31.193195",
     "exception": false,
     "start_time": "2024-06-15T22:31:31.169831",
     "status": "completed"
    },
    "tags": []
   },
   "source": [
    "## Process\n",
    "\n",
    "First, were going to merge all of the trips datasets together."
   ]
  },
  {
   "cell_type": "code",
   "execution_count": 7,
   "id": "2fba1bda",
   "metadata": {
    "execution": {
     "iopub.execute_input": "2024-06-15T22:31:31.245875Z",
     "iopub.status.busy": "2024-06-15T22:31:31.243513Z",
     "iopub.status.idle": "2024-06-15T22:31:32.855306Z",
     "shell.execute_reply": "2024-06-15T22:31:32.852730Z"
    },
    "papermill": {
     "duration": 1.641571,
     "end_time": "2024-06-15T22:31:32.858456",
     "exception": false,
     "start_time": "2024-06-15T22:31:31.216885",
     "status": "completed"
    },
    "scrolled": true,
    "tags": []
   },
   "outputs": [],
   "source": [
    "# Merge the datasets\n",
    "\n",
    "trips <- bind_rows(ap_2021,my_2021,jun_2021,jul_2021,aug_2021,sep_2021,oct_2021,novem_2021,decem_2021,jan_2022,feb_2022,mar_2022)"
   ]
  },
  {
   "cell_type": "markdown",
   "id": "1069832b",
   "metadata": {
    "papermill": {
     "duration": 0.022606,
     "end_time": "2024-06-15T22:31:32.903561",
     "exception": false,
     "start_time": "2024-06-15T22:31:32.880955",
     "status": "completed"
    },
    "tags": []
   },
   "source": [
    "Now that we have all of the datasets in one single dataframe, the following steps are taken to clean, aggregate, and mutate the data fro analysis."
   ]
  },
  {
   "cell_type": "code",
   "execution_count": 8,
   "id": "84ee2ecb",
   "metadata": {
    "execution": {
     "iopub.execute_input": "2024-06-15T22:31:32.953990Z",
     "iopub.status.busy": "2024-06-15T22:31:32.951939Z",
     "iopub.status.idle": "2024-06-15T22:33:58.115281Z",
     "shell.execute_reply": "2024-06-15T22:33:58.112973Z"
    },
    "papermill": {
     "duration": 145.193484,
     "end_time": "2024-06-15T22:33:58.119678",
     "exception": false,
     "start_time": "2024-06-15T22:31:32.926194",
     "status": "completed"
    },
    "scrolled": true,
    "tags": []
   },
   "outputs": [],
   "source": [
    "# Creating month column\n",
    "trips$month <- format(as.Date(trips$started_at), \"%b\")\n",
    "\n",
    "# Creating year column\n",
    "trips$year <- format(as.Date(trips$started_at), \"%Y\") \n",
    "\n",
    "# Creating day of the week column\n",
    "trips$day_of_week <- format(as.Date(trips$started_at), \"%A\") \n",
    "\n",
    "# Creating hour column\n",
    "trips <- trips %>%\n",
    "    mutate(hour = strftime(trips$ended_at, \"%H\"))\n",
    "# Creating ride length column (in minutes)\n",
    "trips$ride_length <- (as.double(difftime(trips$ended_at, trips$started_at))) /60\n",
    "\n",
    "# Creating ride distance column (in km)\n",
    "trips$ride_distance <- distGeo(matrix(c(trips$start_lng, trips$start_lat), ncol = 2),\n",
    "                              matrix(c(trips$end_lng, trips$end_lat), ncol = 2))\n",
    "\n",
    "trips$ride_distance <- trips$ride_distance/1000\n",
    "\n",
    "# Ordering day_of_week column\n",
    "trips$day_of_week <- ordered(trips$day_of_week, levels = c(\"Monday\", \"Tuesday\", \"Wednesday\", \n",
    "                                                           \"Thursday\", \"Friday\", \"Saturday\", \n",
    "                                                           \"Sunday\"))\n",
    "# Ordering month column\n",
    "trips$month <- ordered(trips$month, levels = c(\"Jan\", \"Feb\", \"Mar\", \"Apr\", \"May\", \"Jun\",\n",
    "                                               \"Jul\", \"Aug\", \"Sep\", \"Oct\", \"Nov\", \"Dec\"))\n",
    "\n",
    "# Renaming columns\n",
    "names(trips) [2] <- 'bike'\n",
    "names(trips) [13] <- 'user'\n",
    "\n",
    "# Remove rows with NA's\n",
    "trips <- drop_na(trips)\n",
    "\n",
    "# Remove rows where rides were negative\n",
    "trips <- trips[!trips$ride_length < 1,]\n",
    "\n",
    "# Remove rows where rides were above 1 day\n",
    "trips <- trips[!trips$ride_length > 1440,]"
   ]
  },
  {
   "cell_type": "markdown",
   "id": "fdc81279",
   "metadata": {
    "papermill": {
     "duration": 0.023372,
     "end_time": "2024-06-15T22:33:58.166704",
     "exception": false,
     "start_time": "2024-06-15T22:33:58.143332",
     "status": "completed"
    },
    "tags": []
   },
   "source": [
    "## Analyze"
   ]
  },
  {
   "cell_type": "code",
   "execution_count": 9,
   "id": "e125b1da",
   "metadata": {
    "_kg_hide-output": true,
    "execution": {
     "iopub.execute_input": "2024-06-15T22:33:58.218657Z",
     "iopub.status.busy": "2024-06-15T22:33:58.216931Z",
     "iopub.status.idle": "2024-06-15T22:33:58.314910Z",
     "shell.execute_reply": "2024-06-15T22:33:58.312831Z"
    },
    "papermill": {
     "duration": 0.128176,
     "end_time": "2024-06-15T22:33:58.318680",
     "exception": false,
     "start_time": "2024-06-15T22:33:58.190504",
     "status": "completed"
    },
    "scrolled": true,
    "tags": []
   },
   "outputs": [
    {
     "data": {
      "text/html": [
       "<table class=\"dataframe\">\n",
       "<caption>A tibble: 2 × 2</caption>\n",
       "<thead>\n",
       "\t<tr><th scope=col>user</th><th scope=col>percent_total</th></tr>\n",
       "\t<tr><th scope=col>&lt;chr&gt;</th><th scope=col>&lt;dbl&gt;</th></tr>\n",
       "</thead>\n",
       "<tbody>\n",
       "\t<tr><td>2021</td><td>0.91233446</td></tr>\n",
       "\t<tr><td>2022</td><td>0.08766554</td></tr>\n",
       "</tbody>\n",
       "</table>\n"
      ],
      "text/latex": [
       "A tibble: 2 × 2\n",
       "\\begin{tabular}{ll}\n",
       " user & percent\\_total\\\\\n",
       " <chr> & <dbl>\\\\\n",
       "\\hline\n",
       "\t 2021 & 0.91233446\\\\\n",
       "\t 2022 & 0.08766554\\\\\n",
       "\\end{tabular}\n"
      ],
      "text/markdown": [
       "\n",
       "A tibble: 2 × 2\n",
       "\n",
       "| user &lt;chr&gt; | percent_total &lt;dbl&gt; |\n",
       "|---|---|\n",
       "| 2021 | 0.91233446 |\n",
       "| 2022 | 0.08766554 |\n",
       "\n"
      ],
      "text/plain": [
       "  user percent_total\n",
       "1 2021 0.91233446   \n",
       "2 2022 0.08766554   "
      ]
     },
     "metadata": {},
     "output_type": "display_data"
    }
   ],
   "source": [
    "usercount <- trips %>%\n",
    "    group_by(user) %>%\n",
    "    summarize(total = n()) %>%\n",
    "    mutate(overall_total = sum(total)) %>%\n",
    "    group_by(user) %>%\n",
    "    summarize(percent_total = total/overall_total)\n",
    "\n",
    "usercount"
   ]
  },
  {
   "cell_type": "markdown",
   "id": "921cd345",
   "metadata": {
    "papermill": {
     "duration": 0.02467,
     "end_time": "2024-06-15T22:33:58.367912",
     "exception": false,
     "start_time": "2024-06-15T22:33:58.343242",
     "status": "completed"
    },
    "tags": []
   },
   "source": [
    "Over the past twelve months, 91% of Cyclistic rides were from an annual member."
   ]
  },
  {
   "cell_type": "code",
   "execution_count": 10,
   "id": "bc3c26e5",
   "metadata": {
    "_kg_hide-output": true,
    "execution": {
     "iopub.execute_input": "2024-06-15T22:33:58.478690Z",
     "iopub.status.busy": "2024-06-15T22:33:58.476921Z",
     "iopub.status.idle": "2024-06-15T22:33:58.633380Z",
     "shell.execute_reply": "2024-06-15T22:33:58.630625Z"
    },
    "papermill": {
     "duration": 0.243953,
     "end_time": "2024-06-15T22:33:58.637173",
     "exception": false,
     "start_time": "2024-06-15T22:33:58.393220",
     "status": "completed"
    },
    "scrolled": true,
    "tags": []
   },
   "outputs": [
    {
     "data": {
      "text/html": [
       "<table class=\"dataframe\">\n",
       "<caption>A tibble: 3 × 2</caption>\n",
       "<thead>\n",
       "\t<tr><th scope=col>bike</th><th scope=col>percent_total</th></tr>\n",
       "\t<tr><th scope=col>&lt;chr&gt;</th><th scope=col>&lt;dbl&gt;</th></tr>\n",
       "</thead>\n",
       "<tbody>\n",
       "\t<tr><td>classic_bike </td><td>0.56924081</td></tr>\n",
       "\t<tr><td>docked_bike  </td><td>0.05338849</td></tr>\n",
       "\t<tr><td>electric_bike</td><td>0.37737070</td></tr>\n",
       "</tbody>\n",
       "</table>\n"
      ],
      "text/latex": [
       "A tibble: 3 × 2\n",
       "\\begin{tabular}{ll}\n",
       " bike & percent\\_total\\\\\n",
       " <chr> & <dbl>\\\\\n",
       "\\hline\n",
       "\t classic\\_bike  & 0.56924081\\\\\n",
       "\t docked\\_bike   & 0.05338849\\\\\n",
       "\t electric\\_bike & 0.37737070\\\\\n",
       "\\end{tabular}\n"
      ],
      "text/markdown": [
       "\n",
       "A tibble: 3 × 2\n",
       "\n",
       "| bike &lt;chr&gt; | percent_total &lt;dbl&gt; |\n",
       "|---|---|\n",
       "| classic_bike  | 0.56924081 |\n",
       "| docked_bike   | 0.05338849 |\n",
       "| electric_bike | 0.37737070 |\n",
       "\n"
      ],
      "text/plain": [
       "  bike          percent_total\n",
       "1 classic_bike  0.56924081   \n",
       "2 docked_bike   0.05338849   \n",
       "3 electric_bike 0.37737070   "
      ]
     },
     "metadata": {},
     "output_type": "display_data"
    }
   ],
   "source": [
    "bike_usage <- trips %>%\n",
    "    group_by(bike) %>%\n",
    "    summarize(total = n()) %>%\n",
    "    mutate(overall_total = sum(total)) %>%\n",
    "    group_by(bike) %>%\n",
    "    summarize(percent_total = total/overall_total) \n",
    "\n",
    "bike_usage"
   ]
  },
  {
   "cell_type": "code",
   "execution_count": 11,
   "id": "b4128f32",
   "metadata": {
    "_kg_hide-output": true,
    "execution": {
     "iopub.execute_input": "2024-06-15T22:33:58.688989Z",
     "iopub.status.busy": "2024-06-15T22:33:58.686898Z",
     "iopub.status.idle": "2024-06-15T22:33:58.819562Z",
     "shell.execute_reply": "2024-06-15T22:33:58.817252Z"
    },
    "papermill": {
     "duration": 0.161863,
     "end_time": "2024-06-15T22:33:58.822508",
     "exception": false,
     "start_time": "2024-06-15T22:33:58.660645",
     "status": "completed"
    },
    "scrolled": true,
    "tags": []
   },
   "outputs": [
    {
     "data": {
      "text/html": [
       "<table class=\"dataframe\">\n",
       "<caption>A tibble: 2 × 2</caption>\n",
       "<thead>\n",
       "\t<tr><th scope=col>user</th><th scope=col>avg_time</th></tr>\n",
       "\t<tr><th scope=col>&lt;chr&gt;</th><th scope=col>&lt;dbl&gt;</th></tr>\n",
       "</thead>\n",
       "<tbody>\n",
       "\t<tr><td>2021</td><td>20</td></tr>\n",
       "\t<tr><td>2022</td><td>15</td></tr>\n",
       "</tbody>\n",
       "</table>\n"
      ],
      "text/latex": [
       "A tibble: 2 × 2\n",
       "\\begin{tabular}{ll}\n",
       " user & avg\\_time\\\\\n",
       " <chr> & <dbl>\\\\\n",
       "\\hline\n",
       "\t 2021 & 20\\\\\n",
       "\t 2022 & 15\\\\\n",
       "\\end{tabular}\n"
      ],
      "text/markdown": [
       "\n",
       "A tibble: 2 × 2\n",
       "\n",
       "| user &lt;chr&gt; | avg_time &lt;dbl&gt; |\n",
       "|---|---|\n",
       "| 2021 | 20 |\n",
       "| 2022 | 15 |\n",
       "\n"
      ],
      "text/plain": [
       "  user avg_time\n",
       "1 2021 20      \n",
       "2 2022 15      "
      ]
     },
     "metadata": {},
     "output_type": "display_data"
    }
   ],
   "source": [
    "riders_time_user <- trips %>%\n",
    "    group_by(user) %>%\n",
    "    summarize(avg_time = mean(ride_length), .groups = \"drop\")\n",
    "\n",
    "\n",
    "riders_time_user$avg_time <- round(riders_time_user$avg_time , digits = 0)\n",
    "\n",
    "riders_time_user"
   ]
  },
  {
   "cell_type": "code",
   "execution_count": 12,
   "id": "88e6d010",
   "metadata": {
    "_kg_hide-output": true,
    "execution": {
     "iopub.execute_input": "2024-06-15T22:33:58.875128Z",
     "iopub.status.busy": "2024-06-15T22:33:58.872573Z",
     "iopub.status.idle": "2024-06-15T22:33:59.156706Z",
     "shell.execute_reply": "2024-06-15T22:33:59.154386Z"
    },
    "papermill": {
     "duration": 0.314048,
     "end_time": "2024-06-15T22:33:59.159963",
     "exception": false,
     "start_time": "2024-06-15T22:33:58.845915",
     "status": "completed"
    },
    "scrolled": true,
    "tags": []
   },
   "outputs": [
    {
     "data": {
      "text/html": [
       "<table class=\"dataframe\">\n",
       "<caption>A tibble: 6 × 3</caption>\n",
       "<thead>\n",
       "\t<tr><th scope=col>bike</th><th scope=col>user</th><th scope=col>avg_time</th></tr>\n",
       "\t<tr><th scope=col>&lt;chr&gt;</th><th scope=col>&lt;chr&gt;</th><th scope=col>&lt;dbl&gt;</th></tr>\n",
       "</thead>\n",
       "<tbody>\n",
       "\t<tr><td>classic_bike </td><td>2021</td><td>19</td></tr>\n",
       "\t<tr><td>classic_bike </td><td>2022</td><td>15</td></tr>\n",
       "\t<tr><td>docked_bike  </td><td>2021</td><td>50</td></tr>\n",
       "\t<tr><td>docked_bike  </td><td>2022</td><td>46</td></tr>\n",
       "\t<tr><td>electric_bike</td><td>2021</td><td>16</td></tr>\n",
       "\t<tr><td>electric_bike</td><td>2022</td><td>13</td></tr>\n",
       "</tbody>\n",
       "</table>\n"
      ],
      "text/latex": [
       "A tibble: 6 × 3\n",
       "\\begin{tabular}{lll}\n",
       " bike & user & avg\\_time\\\\\n",
       " <chr> & <chr> & <dbl>\\\\\n",
       "\\hline\n",
       "\t classic\\_bike  & 2021 & 19\\\\\n",
       "\t classic\\_bike  & 2022 & 15\\\\\n",
       "\t docked\\_bike   & 2021 & 50\\\\\n",
       "\t docked\\_bike   & 2022 & 46\\\\\n",
       "\t electric\\_bike & 2021 & 16\\\\\n",
       "\t electric\\_bike & 2022 & 13\\\\\n",
       "\\end{tabular}\n"
      ],
      "text/markdown": [
       "\n",
       "A tibble: 6 × 3\n",
       "\n",
       "| bike &lt;chr&gt; | user &lt;chr&gt; | avg_time &lt;dbl&gt; |\n",
       "|---|---|---|\n",
       "| classic_bike  | 2021 | 19 |\n",
       "| classic_bike  | 2022 | 15 |\n",
       "| docked_bike   | 2021 | 50 |\n",
       "| docked_bike   | 2022 | 46 |\n",
       "| electric_bike | 2021 | 16 |\n",
       "| electric_bike | 2022 | 13 |\n",
       "\n"
      ],
      "text/plain": [
       "  bike          user avg_time\n",
       "1 classic_bike  2021 19      \n",
       "2 classic_bike  2022 15      \n",
       "3 docked_bike   2021 50      \n",
       "4 docked_bike   2022 46      \n",
       "5 electric_bike 2021 16      \n",
       "6 electric_bike 2022 13      "
      ]
     },
     "metadata": {},
     "output_type": "display_data"
    }
   ],
   "source": [
    "riders_time_biketypes <- trips %>%\n",
    "    group_by(bike, user) %>%\n",
    "    summarize(avg_time = mean(ride_length), .groups = \"drop\")\n",
    "\n",
    "riders_time_biketypes$avg_time <- round(riders_time_biketypes$avg_time , digits = 0)\n",
    "\n",
    "riders_time_biketypes"
   ]
  },
  {
   "cell_type": "code",
   "execution_count": 13,
   "id": "2c742e08",
   "metadata": {
    "_kg_hide-output": true,
    "execution": {
     "iopub.execute_input": "2024-06-15T22:33:59.214190Z",
     "iopub.status.busy": "2024-06-15T22:33:59.212271Z",
     "iopub.status.idle": "2024-06-15T22:33:59.326740Z",
     "shell.execute_reply": "2024-06-15T22:33:59.324455Z"
    },
    "papermill": {
     "duration": 0.144251,
     "end_time": "2024-06-15T22:33:59.329617",
     "exception": false,
     "start_time": "2024-06-15T22:33:59.185366",
     "status": "completed"
    },
    "scrolled": true,
    "tags": []
   },
   "outputs": [
    {
     "data": {
      "text/html": [
       "<table class=\"dataframe\">\n",
       "<caption>A tibble: 2 × 2</caption>\n",
       "<thead>\n",
       "\t<tr><th scope=col>user</th><th scope=col>avg_dist</th></tr>\n",
       "\t<tr><th scope=col>&lt;chr&gt;</th><th scope=col>&lt;dbl&gt;</th></tr>\n",
       "</thead>\n",
       "<tbody>\n",
       "\t<tr><td>2021</td><td>2.23</td></tr>\n",
       "\t<tr><td>2022</td><td>1.97</td></tr>\n",
       "</tbody>\n",
       "</table>\n"
      ],
      "text/latex": [
       "A tibble: 2 × 2\n",
       "\\begin{tabular}{ll}\n",
       " user & avg\\_dist\\\\\n",
       " <chr> & <dbl>\\\\\n",
       "\\hline\n",
       "\t 2021 & 2.23\\\\\n",
       "\t 2022 & 1.97\\\\\n",
       "\\end{tabular}\n"
      ],
      "text/markdown": [
       "\n",
       "A tibble: 2 × 2\n",
       "\n",
       "| user &lt;chr&gt; | avg_dist &lt;dbl&gt; |\n",
       "|---|---|\n",
       "| 2021 | 2.23 |\n",
       "| 2022 | 1.97 |\n",
       "\n"
      ],
      "text/plain": [
       "  user avg_dist\n",
       "1 2021 2.23    \n",
       "2 2022 1.97    "
      ]
     },
     "metadata": {},
     "output_type": "display_data"
    }
   ],
   "source": [
    "riders_dist_user <- trips %>%\n",
    "    group_by(user) %>%\n",
    "    summarize(avg_dist = mean(ride_distance), .groups = \"drop\")\n",
    "\n",
    "riders_dist_user$avg_dist <- round(riders_dist_user$avg_dist , digits = 2)\n",
    "\n",
    "riders_dist_user"
   ]
  },
  {
   "cell_type": "code",
   "execution_count": 14,
   "id": "e0991b5c",
   "metadata": {
    "_kg_hide-output": true,
    "execution": {
     "iopub.execute_input": "2024-06-15T22:33:59.384224Z",
     "iopub.status.busy": "2024-06-15T22:33:59.382346Z",
     "iopub.status.idle": "2024-06-15T22:33:59.653382Z",
     "shell.execute_reply": "2024-06-15T22:33:59.651391Z"
    },
    "papermill": {
     "duration": 0.301215,
     "end_time": "2024-06-15T22:33:59.656320",
     "exception": false,
     "start_time": "2024-06-15T22:33:59.355105",
     "status": "completed"
    },
    "scrolled": true,
    "tags": []
   },
   "outputs": [
    {
     "data": {
      "text/html": [
       "<table class=\"dataframe\">\n",
       "<caption>A tibble: 6 × 3</caption>\n",
       "<thead>\n",
       "\t<tr><th scope=col>bike</th><th scope=col>user</th><th scope=col>avg_dist</th></tr>\n",
       "\t<tr><th scope=col>&lt;chr&gt;</th><th scope=col>&lt;chr&gt;</th><th scope=col>&lt;dbl&gt;</th></tr>\n",
       "</thead>\n",
       "<tbody>\n",
       "\t<tr><td>classic_bike </td><td>2021</td><td>2.09</td></tr>\n",
       "\t<tr><td>classic_bike </td><td>2022</td><td>1.78</td></tr>\n",
       "\t<tr><td>docked_bike  </td><td>2021</td><td>2.04</td></tr>\n",
       "\t<tr><td>docked_bike  </td><td>2022</td><td>1.99</td></tr>\n",
       "\t<tr><td>electric_bike</td><td>2021</td><td>2.48</td></tr>\n",
       "\t<tr><td>electric_bike</td><td>2022</td><td>2.18</td></tr>\n",
       "</tbody>\n",
       "</table>\n"
      ],
      "text/latex": [
       "A tibble: 6 × 3\n",
       "\\begin{tabular}{lll}\n",
       " bike & user & avg\\_dist\\\\\n",
       " <chr> & <chr> & <dbl>\\\\\n",
       "\\hline\n",
       "\t classic\\_bike  & 2021 & 2.09\\\\\n",
       "\t classic\\_bike  & 2022 & 1.78\\\\\n",
       "\t docked\\_bike   & 2021 & 2.04\\\\\n",
       "\t docked\\_bike   & 2022 & 1.99\\\\\n",
       "\t electric\\_bike & 2021 & 2.48\\\\\n",
       "\t electric\\_bike & 2022 & 2.18\\\\\n",
       "\\end{tabular}\n"
      ],
      "text/markdown": [
       "\n",
       "A tibble: 6 × 3\n",
       "\n",
       "| bike &lt;chr&gt; | user &lt;chr&gt; | avg_dist &lt;dbl&gt; |\n",
       "|---|---|---|\n",
       "| classic_bike  | 2021 | 2.09 |\n",
       "| classic_bike  | 2022 | 1.78 |\n",
       "| docked_bike   | 2021 | 2.04 |\n",
       "| docked_bike   | 2022 | 1.99 |\n",
       "| electric_bike | 2021 | 2.48 |\n",
       "| electric_bike | 2022 | 2.18 |\n",
       "\n"
      ],
      "text/plain": [
       "  bike          user avg_dist\n",
       "1 classic_bike  2021 2.09    \n",
       "2 classic_bike  2022 1.78    \n",
       "3 docked_bike   2021 2.04    \n",
       "4 docked_bike   2022 1.99    \n",
       "5 electric_bike 2021 2.48    \n",
       "6 electric_bike 2022 2.18    "
      ]
     },
     "metadata": {},
     "output_type": "display_data"
    }
   ],
   "source": [
    "riders_dist_biketypes <- trips %>%\n",
    "    group_by(bike, user) %>%\n",
    "    summarize(avg_dist = mean(ride_distance), .groups = \"drop\")\n",
    "\n",
    "riders_dist_biketypes$avg_dist <- round(riders_dist_biketypes$avg_dist , digits = 2)\n",
    "\n",
    "riders_dist_biketypes"
   ]
  },
  {
   "cell_type": "code",
   "execution_count": 15,
   "id": "51311b1e",
   "metadata": {
    "_kg_hide-output": true,
    "execution": {
     "iopub.execute_input": "2024-06-15T22:33:59.711954Z",
     "iopub.status.busy": "2024-06-15T22:33:59.709590Z",
     "iopub.status.idle": "2024-06-15T22:33:59.827996Z",
     "shell.execute_reply": "2024-06-15T22:33:59.825994Z"
    },
    "papermill": {
     "duration": 0.149717,
     "end_time": "2024-06-15T22:33:59.830903",
     "exception": false,
     "start_time": "2024-06-15T22:33:59.681186",
     "status": "completed"
    },
    "scrolled": true,
    "tags": []
   },
   "outputs": [
    {
     "data": {
      "text/html": [
       "<table class=\"dataframe\">\n",
       "<caption>A tibble: 2 × 2</caption>\n",
       "<thead>\n",
       "\t<tr><th scope=col>user</th><th scope=col>avgtime</th></tr>\n",
       "\t<tr><th scope=col>&lt;chr&gt;</th><th scope=col>&lt;dbl&gt;</th></tr>\n",
       "</thead>\n",
       "<tbody>\n",
       "\t<tr><td>2021</td><td>20</td></tr>\n",
       "\t<tr><td>2022</td><td>15</td></tr>\n",
       "</tbody>\n",
       "</table>\n"
      ],
      "text/latex": [
       "A tibble: 2 × 2\n",
       "\\begin{tabular}{ll}\n",
       " user & avgtime\\\\\n",
       " <chr> & <dbl>\\\\\n",
       "\\hline\n",
       "\t 2021 & 20\\\\\n",
       "\t 2022 & 15\\\\\n",
       "\\end{tabular}\n"
      ],
      "text/markdown": [
       "\n",
       "A tibble: 2 × 2\n",
       "\n",
       "| user &lt;chr&gt; | avgtime &lt;dbl&gt; |\n",
       "|---|---|\n",
       "| 2021 | 20 |\n",
       "| 2022 | 15 |\n",
       "\n"
      ],
      "text/plain": [
       "  user avgtime\n",
       "1 2021 20     \n",
       "2 2022 15     "
      ]
     },
     "metadata": {},
     "output_type": "display_data"
    }
   ],
   "source": [
    "# Average ride time by user\n",
    "avgridetime <- trips %>% \n",
    "    group_by(user) %>%\n",
    "    summarise(avgtime = mean(ride_length))\n",
    "\n",
    "avgridetime$avgtime <- round(avgridetime$avgtime, digits = 0)\n",
    "\n",
    "avgridetime"
   ]
  },
  {
   "cell_type": "code",
   "execution_count": 16,
   "id": "9cee6e44",
   "metadata": {
    "_kg_hide-output": true,
    "execution": {
     "iopub.execute_input": "2024-06-15T22:33:59.886065Z",
     "iopub.status.busy": "2024-06-15T22:33:59.884207Z",
     "iopub.status.idle": "2024-06-15T22:34:01.416382Z",
     "shell.execute_reply": "2024-06-15T22:34:01.414208Z"
    },
    "papermill": {
     "duration": 1.563394,
     "end_time": "2024-06-15T22:34:01.419389",
     "exception": false,
     "start_time": "2024-06-15T22:33:59.855995",
     "status": "completed"
    },
    "scrolled": true,
    "tags": []
   },
   "outputs": [
    {
     "data": {
      "text/html": [
       "<table class=\"dataframe\">\n",
       "<caption>A tibble: 2 × 2</caption>\n",
       "<thead>\n",
       "\t<tr><th scope=col>user</th><th scope=col>avgdist</th></tr>\n",
       "\t<tr><th scope=col>&lt;chr&gt;</th><th scope=col>&lt;dbl&gt;</th></tr>\n",
       "</thead>\n",
       "<tbody>\n",
       "\t<tr><td>2021</td><td>2.230</td></tr>\n",
       "\t<tr><td>2022</td><td>1.974</td></tr>\n",
       "</tbody>\n",
       "</table>\n"
      ],
      "text/latex": [
       "A tibble: 2 × 2\n",
       "\\begin{tabular}{ll}\n",
       " user & avgdist\\\\\n",
       " <chr> & <dbl>\\\\\n",
       "\\hline\n",
       "\t 2021 & 2.230\\\\\n",
       "\t 2022 & 1.974\\\\\n",
       "\\end{tabular}\n"
      ],
      "text/markdown": [
       "\n",
       "A tibble: 2 × 2\n",
       "\n",
       "| user &lt;chr&gt; | avgdist &lt;dbl&gt; |\n",
       "|---|---|\n",
       "| 2021 | 2.230 |\n",
       "| 2022 | 1.974 |\n",
       "\n"
      ],
      "text/plain": [
       "  user avgdist\n",
       "1 2021 2.230  \n",
       "2 2022 1.974  "
      ]
     },
     "metadata": {},
     "output_type": "display_data"
    }
   ],
   "source": [
    "# Average ride distance by user\n",
    "avgridedist <- trips %>%\n",
    "    group_by(user) %>%\n",
    "    summarise(avgdist = mean(ride_distance))\n",
    "\n",
    "avgridedist$avgdist <- round(avgridedist$avgdist, digits = 3)\n",
    "\n",
    "avgridedist"
   ]
  },
  {
   "cell_type": "code",
   "execution_count": 17,
   "id": "eb6b2bc4",
   "metadata": {
    "_kg_hide-output": true,
    "execution": {
     "iopub.execute_input": "2024-06-15T22:34:01.474408Z",
     "iopub.status.busy": "2024-06-15T22:34:01.472374Z",
     "iopub.status.idle": "2024-06-15T22:34:01.726673Z",
     "shell.execute_reply": "2024-06-15T22:34:01.724183Z"
    },
    "papermill": {
     "duration": 0.285036,
     "end_time": "2024-06-15T22:34:01.729738",
     "exception": false,
     "start_time": "2024-06-15T22:34:01.444702",
     "status": "completed"
    },
    "scrolled": true,
    "tags": []
   },
   "outputs": [
    {
     "data": {
      "text/html": [
       "<table class=\"dataframe\">\n",
       "<caption>A tibble: 48 × 3</caption>\n",
       "<thead>\n",
       "\t<tr><th scope=col>user</th><th scope=col>hour</th><th scope=col>numberofrides</th></tr>\n",
       "\t<tr><th scope=col>&lt;chr&gt;</th><th scope=col>&lt;chr&gt;</th><th scope=col>&lt;int&gt;</th></tr>\n",
       "</thead>\n",
       "<tbody>\n",
       "\t<tr><td>2021</td><td>00</td><td> 91305</td></tr>\n",
       "\t<tr><td>2022</td><td>00</td><td>  4807</td></tr>\n",
       "\t<tr><td>2021</td><td>01</td><td> 64291</td></tr>\n",
       "\t<tr><td>2022</td><td>01</td><td>  3104</td></tr>\n",
       "\t<tr><td>2021</td><td>02</td><td> 43674</td></tr>\n",
       "\t<tr><td>2022</td><td>02</td><td>  2280</td></tr>\n",
       "\t<tr><td>2021</td><td>03</td><td> 24031</td></tr>\n",
       "\t<tr><td>2022</td><td>03</td><td>  1430</td></tr>\n",
       "\t<tr><td>2021</td><td>04</td><td> 17827</td></tr>\n",
       "\t<tr><td>2022</td><td>04</td><td>  1287</td></tr>\n",
       "\t<tr><td>2021</td><td>05</td><td> 32668</td></tr>\n",
       "\t<tr><td>2022</td><td>05</td><td>  4436</td></tr>\n",
       "\t<tr><td>2021</td><td>06</td><td> 83619</td></tr>\n",
       "\t<tr><td>2022</td><td>06</td><td> 10682</td></tr>\n",
       "\t<tr><td>2021</td><td>07</td><td>160078</td></tr>\n",
       "\t<tr><td>2022</td><td>07</td><td> 22126</td></tr>\n",
       "\t<tr><td>2021</td><td>08</td><td>213719</td></tr>\n",
       "\t<tr><td>2022</td><td>08</td><td> 30133</td></tr>\n",
       "\t<tr><td>2021</td><td>09</td><td>184907</td></tr>\n",
       "\t<tr><td>2022</td><td>09</td><td> 21554</td></tr>\n",
       "\t<tr><td>2021</td><td>10</td><td>195558</td></tr>\n",
       "\t<tr><td>2022</td><td>10</td><td> 19132</td></tr>\n",
       "\t<tr><td>2021</td><td>11</td><td>242740</td></tr>\n",
       "\t<tr><td>2022</td><td>11</td><td> 23203</td></tr>\n",
       "\t<tr><td>2021</td><td>12</td><td>298212</td></tr>\n",
       "\t<tr><td>2022</td><td>12</td><td> 29475</td></tr>\n",
       "\t<tr><td>2021</td><td>13</td><td>311131</td></tr>\n",
       "\t<tr><td>2022</td><td>13</td><td> 30387</td></tr>\n",
       "\t<tr><td>2021</td><td>14</td><td>315278</td></tr>\n",
       "\t<tr><td>2022</td><td>14</td><td> 31857</td></tr>\n",
       "\t<tr><td>2021</td><td>15</td><td>343662</td></tr>\n",
       "\t<tr><td>2022</td><td>15</td><td> 36189</td></tr>\n",
       "\t<tr><td>2021</td><td>16</td><td>404154</td></tr>\n",
       "\t<tr><td>2022</td><td>16</td><td> 44547</td></tr>\n",
       "\t<tr><td>2021</td><td>17</td><td>498206</td></tr>\n",
       "\t<tr><td>2022</td><td>17</td><td> 52670</td></tr>\n",
       "\t<tr><td>2021</td><td>18</td><td>472738</td></tr>\n",
       "\t<tr><td>2022</td><td>18</td><td> 42838</td></tr>\n",
       "\t<tr><td>2021</td><td>19</td><td>368677</td></tr>\n",
       "\t<tr><td>2022</td><td>19</td><td> 29241</td></tr>\n",
       "\t<tr><td>2021</td><td>20</td><td>263474</td></tr>\n",
       "\t<tr><td>2022</td><td>20</td><td> 18718</td></tr>\n",
       "\t<tr><td>2021</td><td>21</td><td>202284</td></tr>\n",
       "\t<tr><td>2022</td><td>21</td><td> 14124</td></tr>\n",
       "\t<tr><td>2021</td><td>22</td><td>171226</td></tr>\n",
       "\t<tr><td>2022</td><td>22</td><td> 11178</td></tr>\n",
       "\t<tr><td>2021</td><td>23</td><td>131340</td></tr>\n",
       "\t<tr><td>2022</td><td>23</td><td>  8001</td></tr>\n",
       "</tbody>\n",
       "</table>\n"
      ],
      "text/latex": [
       "A tibble: 48 × 3\n",
       "\\begin{tabular}{lll}\n",
       " user & hour & numberofrides\\\\\n",
       " <chr> & <chr> & <int>\\\\\n",
       "\\hline\n",
       "\t 2021 & 00 &  91305\\\\\n",
       "\t 2022 & 00 &   4807\\\\\n",
       "\t 2021 & 01 &  64291\\\\\n",
       "\t 2022 & 01 &   3104\\\\\n",
       "\t 2021 & 02 &  43674\\\\\n",
       "\t 2022 & 02 &   2280\\\\\n",
       "\t 2021 & 03 &  24031\\\\\n",
       "\t 2022 & 03 &   1430\\\\\n",
       "\t 2021 & 04 &  17827\\\\\n",
       "\t 2022 & 04 &   1287\\\\\n",
       "\t 2021 & 05 &  32668\\\\\n",
       "\t 2022 & 05 &   4436\\\\\n",
       "\t 2021 & 06 &  83619\\\\\n",
       "\t 2022 & 06 &  10682\\\\\n",
       "\t 2021 & 07 & 160078\\\\\n",
       "\t 2022 & 07 &  22126\\\\\n",
       "\t 2021 & 08 & 213719\\\\\n",
       "\t 2022 & 08 &  30133\\\\\n",
       "\t 2021 & 09 & 184907\\\\\n",
       "\t 2022 & 09 &  21554\\\\\n",
       "\t 2021 & 10 & 195558\\\\\n",
       "\t 2022 & 10 &  19132\\\\\n",
       "\t 2021 & 11 & 242740\\\\\n",
       "\t 2022 & 11 &  23203\\\\\n",
       "\t 2021 & 12 & 298212\\\\\n",
       "\t 2022 & 12 &  29475\\\\\n",
       "\t 2021 & 13 & 311131\\\\\n",
       "\t 2022 & 13 &  30387\\\\\n",
       "\t 2021 & 14 & 315278\\\\\n",
       "\t 2022 & 14 &  31857\\\\\n",
       "\t 2021 & 15 & 343662\\\\\n",
       "\t 2022 & 15 &  36189\\\\\n",
       "\t 2021 & 16 & 404154\\\\\n",
       "\t 2022 & 16 &  44547\\\\\n",
       "\t 2021 & 17 & 498206\\\\\n",
       "\t 2022 & 17 &  52670\\\\\n",
       "\t 2021 & 18 & 472738\\\\\n",
       "\t 2022 & 18 &  42838\\\\\n",
       "\t 2021 & 19 & 368677\\\\\n",
       "\t 2022 & 19 &  29241\\\\\n",
       "\t 2021 & 20 & 263474\\\\\n",
       "\t 2022 & 20 &  18718\\\\\n",
       "\t 2021 & 21 & 202284\\\\\n",
       "\t 2022 & 21 &  14124\\\\\n",
       "\t 2021 & 22 & 171226\\\\\n",
       "\t 2022 & 22 &  11178\\\\\n",
       "\t 2021 & 23 & 131340\\\\\n",
       "\t 2022 & 23 &   8001\\\\\n",
       "\\end{tabular}\n"
      ],
      "text/markdown": [
       "\n",
       "A tibble: 48 × 3\n",
       "\n",
       "| user &lt;chr&gt; | hour &lt;chr&gt; | numberofrides &lt;int&gt; |\n",
       "|---|---|---|\n",
       "| 2021 | 00 |  91305 |\n",
       "| 2022 | 00 |   4807 |\n",
       "| 2021 | 01 |  64291 |\n",
       "| 2022 | 01 |   3104 |\n",
       "| 2021 | 02 |  43674 |\n",
       "| 2022 | 02 |   2280 |\n",
       "| 2021 | 03 |  24031 |\n",
       "| 2022 | 03 |   1430 |\n",
       "| 2021 | 04 |  17827 |\n",
       "| 2022 | 04 |   1287 |\n",
       "| 2021 | 05 |  32668 |\n",
       "| 2022 | 05 |   4436 |\n",
       "| 2021 | 06 |  83619 |\n",
       "| 2022 | 06 |  10682 |\n",
       "| 2021 | 07 | 160078 |\n",
       "| 2022 | 07 |  22126 |\n",
       "| 2021 | 08 | 213719 |\n",
       "| 2022 | 08 |  30133 |\n",
       "| 2021 | 09 | 184907 |\n",
       "| 2022 | 09 |  21554 |\n",
       "| 2021 | 10 | 195558 |\n",
       "| 2022 | 10 |  19132 |\n",
       "| 2021 | 11 | 242740 |\n",
       "| 2022 | 11 |  23203 |\n",
       "| 2021 | 12 | 298212 |\n",
       "| 2022 | 12 |  29475 |\n",
       "| 2021 | 13 | 311131 |\n",
       "| 2022 | 13 |  30387 |\n",
       "| 2021 | 14 | 315278 |\n",
       "| 2022 | 14 |  31857 |\n",
       "| 2021 | 15 | 343662 |\n",
       "| 2022 | 15 |  36189 |\n",
       "| 2021 | 16 | 404154 |\n",
       "| 2022 | 16 |  44547 |\n",
       "| 2021 | 17 | 498206 |\n",
       "| 2022 | 17 |  52670 |\n",
       "| 2021 | 18 | 472738 |\n",
       "| 2022 | 18 |  42838 |\n",
       "| 2021 | 19 | 368677 |\n",
       "| 2022 | 19 |  29241 |\n",
       "| 2021 | 20 | 263474 |\n",
       "| 2022 | 20 |  18718 |\n",
       "| 2021 | 21 | 202284 |\n",
       "| 2022 | 21 |  14124 |\n",
       "| 2021 | 22 | 171226 |\n",
       "| 2022 | 22 |  11178 |\n",
       "| 2021 | 23 | 131340 |\n",
       "| 2022 | 23 |   8001 |\n",
       "\n"
      ],
      "text/plain": [
       "   user hour numberofrides\n",
       "1  2021 00    91305       \n",
       "2  2022 00     4807       \n",
       "3  2021 01    64291       \n",
       "4  2022 01     3104       \n",
       "5  2021 02    43674       \n",
       "6  2022 02     2280       \n",
       "7  2021 03    24031       \n",
       "8  2022 03     1430       \n",
       "9  2021 04    17827       \n",
       "10 2022 04     1287       \n",
       "11 2021 05    32668       \n",
       "12 2022 05     4436       \n",
       "13 2021 06    83619       \n",
       "14 2022 06    10682       \n",
       "15 2021 07   160078       \n",
       "16 2022 07    22126       \n",
       "17 2021 08   213719       \n",
       "18 2022 08    30133       \n",
       "19 2021 09   184907       \n",
       "20 2022 09    21554       \n",
       "21 2021 10   195558       \n",
       "22 2022 10    19132       \n",
       "23 2021 11   242740       \n",
       "24 2022 11    23203       \n",
       "25 2021 12   298212       \n",
       "26 2022 12    29475       \n",
       "27 2021 13   311131       \n",
       "28 2022 13    30387       \n",
       "29 2021 14   315278       \n",
       "30 2022 14    31857       \n",
       "31 2021 15   343662       \n",
       "32 2022 15    36189       \n",
       "33 2021 16   404154       \n",
       "34 2022 16    44547       \n",
       "35 2021 17   498206       \n",
       "36 2022 17    52670       \n",
       "37 2021 18   472738       \n",
       "38 2022 18    42838       \n",
       "39 2021 19   368677       \n",
       "40 2022 19    29241       \n",
       "41 2021 20   263474       \n",
       "42 2022 20    18718       \n",
       "43 2021 21   202284       \n",
       "44 2022 21    14124       \n",
       "45 2021 22   171226       \n",
       "46 2022 22    11178       \n",
       "47 2021 23   131340       \n",
       "48 2022 23     8001       "
      ]
     },
     "metadata": {},
     "output_type": "display_data"
    }
   ],
   "source": [
    "# Rides by user, hour\n",
    "hour <- trips %>%\n",
    "    group_by(user, hour) %>% \n",
    "    summarise(numberofrides = n(),.groups = 'drop') %>% \n",
    "      arrange(hour)\n",
    "\n",
    "hour"
   ]
  },
  {
   "cell_type": "code",
   "execution_count": 18,
   "id": "8dd5e338",
   "metadata": {
    "_kg_hide-output": true,
    "execution": {
     "iopub.execute_input": "2024-06-15T22:34:01.785200Z",
     "iopub.status.busy": "2024-06-15T22:34:01.783179Z",
     "iopub.status.idle": "2024-06-15T22:34:01.955135Z",
     "shell.execute_reply": "2024-06-15T22:34:01.952788Z"
    },
    "papermill": {
     "duration": 0.203181,
     "end_time": "2024-06-15T22:34:01.958234",
     "exception": false,
     "start_time": "2024-06-15T22:34:01.755053",
     "status": "completed"
    },
    "scrolled": true,
    "tags": []
   },
   "outputs": [
    {
     "data": {
      "text/html": [
       "<table class=\"dataframe\">\n",
       "<caption>A tibble: 14 × 3</caption>\n",
       "<thead>\n",
       "\t<tr><th scope=col>user</th><th scope=col>day_of_week</th><th scope=col>numberofrides</th></tr>\n",
       "\t<tr><th scope=col>&lt;chr&gt;</th><th scope=col>&lt;ord&gt;</th><th scope=col>&lt;int&gt;</th></tr>\n",
       "</thead>\n",
       "<tbody>\n",
       "\t<tr><td>2021</td><td>Monday   </td><td>639435</td></tr>\n",
       "\t<tr><td>2021</td><td>Tuesday  </td><td>675884</td></tr>\n",
       "\t<tr><td>2021</td><td>Wednesday</td><td>692277</td></tr>\n",
       "\t<tr><td>2021</td><td>Thursday </td><td>683863</td></tr>\n",
       "\t<tr><td>2021</td><td>Friday   </td><td>748813</td></tr>\n",
       "\t<tr><td>2021</td><td>Saturday </td><td>903940</td></tr>\n",
       "\t<tr><td>2021</td><td>Sunday   </td><td>790587</td></tr>\n",
       "\t<tr><td>2022</td><td>Monday   </td><td> 80883</td></tr>\n",
       "\t<tr><td>2022</td><td>Tuesday  </td><td> 78335</td></tr>\n",
       "\t<tr><td>2022</td><td>Wednesday</td><td> 81186</td></tr>\n",
       "\t<tr><td>2022</td><td>Thursday </td><td> 72834</td></tr>\n",
       "\t<tr><td>2022</td><td>Friday   </td><td> 54950</td></tr>\n",
       "\t<tr><td>2022</td><td>Saturday </td><td> 60513</td></tr>\n",
       "\t<tr><td>2022</td><td>Sunday   </td><td> 64698</td></tr>\n",
       "</tbody>\n",
       "</table>\n"
      ],
      "text/latex": [
       "A tibble: 14 × 3\n",
       "\\begin{tabular}{lll}\n",
       " user & day\\_of\\_week & numberofrides\\\\\n",
       " <chr> & <ord> & <int>\\\\\n",
       "\\hline\n",
       "\t 2021 & Monday    & 639435\\\\\n",
       "\t 2021 & Tuesday   & 675884\\\\\n",
       "\t 2021 & Wednesday & 692277\\\\\n",
       "\t 2021 & Thursday  & 683863\\\\\n",
       "\t 2021 & Friday    & 748813\\\\\n",
       "\t 2021 & Saturday  & 903940\\\\\n",
       "\t 2021 & Sunday    & 790587\\\\\n",
       "\t 2022 & Monday    &  80883\\\\\n",
       "\t 2022 & Tuesday   &  78335\\\\\n",
       "\t 2022 & Wednesday &  81186\\\\\n",
       "\t 2022 & Thursday  &  72834\\\\\n",
       "\t 2022 & Friday    &  54950\\\\\n",
       "\t 2022 & Saturday  &  60513\\\\\n",
       "\t 2022 & Sunday    &  64698\\\\\n",
       "\\end{tabular}\n"
      ],
      "text/markdown": [
       "\n",
       "A tibble: 14 × 3\n",
       "\n",
       "| user &lt;chr&gt; | day_of_week &lt;ord&gt; | numberofrides &lt;int&gt; |\n",
       "|---|---|---|\n",
       "| 2021 | Monday    | 639435 |\n",
       "| 2021 | Tuesday   | 675884 |\n",
       "| 2021 | Wednesday | 692277 |\n",
       "| 2021 | Thursday  | 683863 |\n",
       "| 2021 | Friday    | 748813 |\n",
       "| 2021 | Saturday  | 903940 |\n",
       "| 2021 | Sunday    | 790587 |\n",
       "| 2022 | Monday    |  80883 |\n",
       "| 2022 | Tuesday   |  78335 |\n",
       "| 2022 | Wednesday |  81186 |\n",
       "| 2022 | Thursday  |  72834 |\n",
       "| 2022 | Friday    |  54950 |\n",
       "| 2022 | Saturday  |  60513 |\n",
       "| 2022 | Sunday    |  64698 |\n",
       "\n"
      ],
      "text/plain": [
       "   user day_of_week numberofrides\n",
       "1  2021 Monday      639435       \n",
       "2  2021 Tuesday     675884       \n",
       "3  2021 Wednesday   692277       \n",
       "4  2021 Thursday    683863       \n",
       "5  2021 Friday      748813       \n",
       "6  2021 Saturday    903940       \n",
       "7  2021 Sunday      790587       \n",
       "8  2022 Monday       80883       \n",
       "9  2022 Tuesday      78335       \n",
       "10 2022 Wednesday    81186       \n",
       "11 2022 Thursday     72834       \n",
       "12 2022 Friday       54950       \n",
       "13 2022 Saturday     60513       \n",
       "14 2022 Sunday       64698       "
      ]
     },
     "metadata": {},
     "output_type": "display_data"
    }
   ],
   "source": [
    "# Ride count by user, weekday\n",
    "dayofweek <- trips %>%\n",
    "      group_by(user, day_of_week) %>% \n",
    "      summarise(numberofrides = n(),.groups = \"drop\")\n",
    "\n",
    "dayofweek"
   ]
  },
  {
   "cell_type": "code",
   "execution_count": 19,
   "id": "4070e2b3",
   "metadata": {
    "_kg_hide-output": true,
    "execution": {
     "iopub.execute_input": "2024-06-15T22:34:02.021250Z",
     "iopub.status.busy": "2024-06-15T22:34:02.018922Z",
     "iopub.status.idle": "2024-06-15T22:34:02.149233Z",
     "shell.execute_reply": "2024-06-15T22:34:02.146905Z"
    },
    "papermill": {
     "duration": 0.166618,
     "end_time": "2024-06-15T22:34:02.152318",
     "exception": false,
     "start_time": "2024-06-15T22:34:01.985700",
     "status": "completed"
    },
    "scrolled": true,
    "tags": []
   },
   "outputs": [
    {
     "data": {
      "text/html": [
       "<table class=\"dataframe\">\n",
       "<caption>A tibble: 12 × 3</caption>\n",
       "<thead>\n",
       "\t<tr><th scope=col>user</th><th scope=col>month</th><th scope=col>numberofrides</th></tr>\n",
       "\t<tr><th scope=col>&lt;chr&gt;</th><th scope=col>&lt;ord&gt;</th><th scope=col>&lt;int&gt;</th></tr>\n",
       "</thead>\n",
       "<tbody>\n",
       "\t<tr><td>2021</td><td>Apr</td><td>332043</td></tr>\n",
       "\t<tr><td>2021</td><td>May</td><td>522573</td></tr>\n",
       "\t<tr><td>2021</td><td>Jun</td><td>716728</td></tr>\n",
       "\t<tr><td>2021</td><td>Jul</td><td>808834</td></tr>\n",
       "\t<tr><td>2021</td><td>Aug</td><td>792133</td></tr>\n",
       "\t<tr><td>2021</td><td>Sep</td><td>744489</td></tr>\n",
       "\t<tr><td>2021</td><td>Oct</td><td>620714</td></tr>\n",
       "\t<tr><td>2021</td><td>Nov</td><td>353840</td></tr>\n",
       "\t<tr><td>2021</td><td>Dec</td><td>243445</td></tr>\n",
       "\t<tr><td>2022</td><td>Jan</td><td>101812</td></tr>\n",
       "\t<tr><td>2022</td><td>Feb</td><td>112958</td></tr>\n",
       "\t<tr><td>2022</td><td>Mar</td><td>278629</td></tr>\n",
       "</tbody>\n",
       "</table>\n"
      ],
      "text/latex": [
       "A tibble: 12 × 3\n",
       "\\begin{tabular}{lll}\n",
       " user & month & numberofrides\\\\\n",
       " <chr> & <ord> & <int>\\\\\n",
       "\\hline\n",
       "\t 2021 & Apr & 332043\\\\\n",
       "\t 2021 & May & 522573\\\\\n",
       "\t 2021 & Jun & 716728\\\\\n",
       "\t 2021 & Jul & 808834\\\\\n",
       "\t 2021 & Aug & 792133\\\\\n",
       "\t 2021 & Sep & 744489\\\\\n",
       "\t 2021 & Oct & 620714\\\\\n",
       "\t 2021 & Nov & 353840\\\\\n",
       "\t 2021 & Dec & 243445\\\\\n",
       "\t 2022 & Jan & 101812\\\\\n",
       "\t 2022 & Feb & 112958\\\\\n",
       "\t 2022 & Mar & 278629\\\\\n",
       "\\end{tabular}\n"
      ],
      "text/markdown": [
       "\n",
       "A tibble: 12 × 3\n",
       "\n",
       "| user &lt;chr&gt; | month &lt;ord&gt; | numberofrides &lt;int&gt; |\n",
       "|---|---|---|\n",
       "| 2021 | Apr | 332043 |\n",
       "| 2021 | May | 522573 |\n",
       "| 2021 | Jun | 716728 |\n",
       "| 2021 | Jul | 808834 |\n",
       "| 2021 | Aug | 792133 |\n",
       "| 2021 | Sep | 744489 |\n",
       "| 2021 | Oct | 620714 |\n",
       "| 2021 | Nov | 353840 |\n",
       "| 2021 | Dec | 243445 |\n",
       "| 2022 | Jan | 101812 |\n",
       "| 2022 | Feb | 112958 |\n",
       "| 2022 | Mar | 278629 |\n",
       "\n"
      ],
      "text/plain": [
       "   user month numberofrides\n",
       "1  2021 Apr   332043       \n",
       "2  2021 May   522573       \n",
       "3  2021 Jun   716728       \n",
       "4  2021 Jul   808834       \n",
       "5  2021 Aug   792133       \n",
       "6  2021 Sep   744489       \n",
       "7  2021 Oct   620714       \n",
       "8  2021 Nov   353840       \n",
       "9  2021 Dec   243445       \n",
       "10 2022 Jan   101812       \n",
       "11 2022 Feb   112958       \n",
       "12 2022 Mar   278629       "
      ]
     },
     "metadata": {},
     "output_type": "display_data"
    }
   ],
   "source": [
    "# Ride count by user, month\n",
    "month <- trips %>% \n",
    "    group_by(user, month) %>% \n",
    "    summarise(numberofrides = n(),.groups = \"drop\")\n",
    "\n",
    "month"
   ]
  },
  {
   "cell_type": "markdown",
   "id": "7e8f92c0",
   "metadata": {
    "papermill": {
     "duration": 0.027845,
     "end_time": "2024-06-15T22:34:02.206299",
     "exception": false,
     "start_time": "2024-06-15T22:34:02.178454",
     "status": "completed"
    },
    "tags": []
   },
   "source": [
    "## Share"
   ]
  },
  {
   "cell_type": "code",
   "execution_count": 20,
   "id": "bec169f5",
   "metadata": {
    "execution": {
     "iopub.execute_input": "2024-06-15T22:34:02.266575Z",
     "iopub.status.busy": "2024-06-15T22:34:02.264375Z",
     "iopub.status.idle": "2024-06-15T22:34:03.053630Z",
     "shell.execute_reply": "2024-06-15T22:34:03.050190Z"
    },
    "papermill": {
     "duration": 0.823524,
     "end_time": "2024-06-15T22:34:03.057634",
     "exception": false,
     "start_time": "2024-06-15T22:34:02.234110",
     "status": "completed"
    },
    "tags": []
   },
   "outputs": [
    {
     "name": "stderr",
     "output_type": "stream",
     "text": [
      "Warning message:\n",
      "“\u001b[1m\u001b[22mUsing `size` aesthetic for lines was deprecated in ggplot2 3.4.0.\n",
      "\u001b[36mℹ\u001b[39m Please use `linewidth` instead.”\n"
     ]
    },
    {
     "data": {
      "image/png": "[encoded data removed]"
     },
     "metadata": {
      "image/png": {
       "height": 480,
       "width": 480
      }
     },
     "output_type": "display_data"
    }
   ],
   "source": [
    "# 1\n",
    "options(repr.plot.width = 8, repr.plot.height = 8)\n",
    "\n",
    "ggplot(usercount, aes(x = \"\", y = percent_total, fill = user)) +\n",
    "    geom_col(color = \"grey20\", size = 0.7) +\n",
    "    coord_polar(\"y\", start = 0) +\n",
    "    geom_text(aes(label = scales :: percent(percent_total)), position = position_stack(vjust = 0.5), size = 10, fontface = \"bold\", color = \"#46465e\") +\n",
    "scale_fill_manual(values = c(\"#91d8e0\", \"#42a0ab\"), name = \"Types of riders\", breaks = c(\"casual\", \"member\"), labels = c(\"Casual Member\", \"Annual Member\")) +\n",
    "labs(title = \"Distribution of Riders\", subtitle = \"What percentage of riders are using the Cyclistic?\",\n",
    "    caption = \"Data: Motivate International\") +\n",
    "theme_void() +\n",
    "theme(plot.title = element_text(hjust = 0.5, size = 22, face = \"bold\", color = \"#42a0ab\"),\n",
    "    plot.subtitle = element_text(hjust = 0.5, size = 16, face = \"bold\", color = \"grey20\"),\n",
    "    plot.caption = element_text(size = 8, color = \"grey35\"),\n",
    "    legend.title = element_text(size = 16, face = \"bold\", color = \"#42a0ab\"),\n",
    "    legend.text = element_text(size = 14, color = \"grey20\"))"
   ]
  },
  {
   "cell_type": "code",
   "execution_count": 21,
   "id": "3c54af19",
   "metadata": {
    "execution": {
     "iopub.execute_input": "2024-06-15T22:34:03.120532Z",
     "iopub.status.busy": "2024-06-15T22:34:03.118293Z",
     "iopub.status.idle": "2024-06-15T22:34:03.505914Z",
     "shell.execute_reply": "2024-06-15T22:34:03.503356Z"
    },
    "papermill": {
     "duration": 0.421883,
     "end_time": "2024-06-15T22:34:03.508908",
     "exception": false,
     "start_time": "2024-06-15T22:34:03.087025",
     "status": "completed"
    },
    "tags": []
   },
   "outputs": [
    {
     "data": {
      "image/png": "[encoded data removed]"
     },
     "metadata": {
      "image/png": {
       "height": 360,
       "width": 600
      }
     },
     "output_type": "display_data"
    }
   ],
   "source": [
    "# 2\n",
    "options(repr.plot.width = 10, repr.plot.height = 6)\n",
    "\n",
    "ggplot(bike_usage, aes(x = bike, y = percent_total, fill = percent_total)) + \n",
    "    geom_bar(stat = \"identity\") +\n",
    "    geom_text(aes(label = scales :: percent(percent_total)), vjust = 1.35, size = 8, fontface = \"bold\", color = \"grey20\") + \n",
    "scale_fill_gradient(high = \"#42a0ab\", low = \"#91d8e0\") +\n",
    "    labs(title = \"Percentage of bike-used by casual riders\", subtitle = \"Seven out of ten riders used the classic biken on rides over the last twelve months\",\n",
    "         caption = \"Data: Motivate International\", x = \"Types of bikes\", y = \"\") +\n",
    "theme_minimal() +\n",
    " theme(plot.title = element_text(size = 22, color = \"#42a0ab\", face = \"bold\"), \n",
    "    plot.subtitle = element_text(size = 16, color = \"grey20\", face = \"bold\"), \n",
    "    plot.caption = element_text(size = 8, color = \"grey35\"),\n",
    "    axis.text.x = element_text(size = 14, color = \"grey20\", face = \"bold\"),\n",
    "    axis.text.y = element_blank(),\n",
    "    axis.title.x = element_text(size = 15, color = \"#42a0ab\", face = \"bold\"), \n",
    "    axis.title.y = element_blank(),\n",
    "    legend.position = \"none\")"
   ]
  },
  {
   "cell_type": "code",
   "execution_count": 22,
   "id": "874556b0",
   "metadata": {
    "execution": {
     "iopub.execute_input": "2024-06-15T22:34:03.571955Z",
     "iopub.status.busy": "2024-06-15T22:34:03.569797Z",
     "iopub.status.idle": "2024-06-15T22:34:03.872804Z",
     "shell.execute_reply": "2024-06-15T22:34:03.870048Z"
    },
    "papermill": {
     "duration": 0.33802,
     "end_time": "2024-06-15T22:34:03.876008",
     "exception": false,
     "start_time": "2024-06-15T22:34:03.537988",
     "status": "completed"
    },
    "tags": []
   },
   "outputs": [
    {
     "data": {
      "image/png": "[encoded data removed]"
     },
     "metadata": {
      "image/png": {
       "height": 360,
       "width": 480
      }
     },
     "output_type": "display_data"
    }
   ],
   "source": [
    "options(repr.plot.width = 8, repr.plot.height = 6)\n",
    "\n",
    "ggplot(riders_time_user, aes(x = user, y = avg_time, fill = avg_time)) +\n",
    "    geom_col(width = 0.8) + \n",
    "    geom_text(aes(label = avg_time), vjust = 2, size = 8, color = \"grey20\", fontface = \"bold\") +\n",
    "scale_fill_gradient(high = \"#42a0ab\", low = \"#91d8e0\") +\n",
    "    labs(title = \"Average time spent by riders on bikes\", subtitle = \"Casual riders spend twice as long as members on average\",\n",
    "        caption = \"Data: Motivate International\", x = \"User\", y = \"Time (mins)\") +\n",
    "theme_minimal() +\n",
    "    theme(plot.title = element_text(size = 22, color = \"#42a0ab\", face = \"bold\"), \n",
    "    plot.subtitle = element_text(size = 14, color = \"grey20\", face = \"bold\"), \n",
    "    plot.caption = element_text(size = 8, color = \"grey35\"),\n",
    "    axis.title.x = element_text(size = 15, color = \"#42a0ab\", face = \"bold\"), \n",
    "    axis.title.y = element_text(size = 15, color = \"#42a0ab\", face = \"bold\"), \n",
    "    axis.text.x = element_text(size = 14, color = \"grey20\", face = \"bold\"),\n",
    "    axis.text.y = element_blank(),\n",
    "    legend.position = \"none\")"
   ]
  },
  {
   "cell_type": "code",
   "execution_count": 23,
   "id": "80878561",
   "metadata": {
    "execution": {
     "iopub.execute_input": "2024-06-15T22:34:03.941100Z",
     "iopub.status.busy": "2024-06-15T22:34:03.938843Z",
     "iopub.status.idle": "2024-06-15T22:34:04.393818Z",
     "shell.execute_reply": "2024-06-15T22:34:04.391252Z"
    },
    "papermill": {
     "duration": 0.491137,
     "end_time": "2024-06-15T22:34:04.397021",
     "exception": false,
     "start_time": "2024-06-15T22:34:03.905884",
     "status": "completed"
    },
    "tags": []
   },
   "outputs": [
    {
     "data": {
      "image/png": "[encoded data removed]"
     },
     "metadata": {
      "image/png": {
       "height": 360,
       "width": 480
      }
     },
     "output_type": "display_data"
    }
   ],
   "source": [
    "options(repr.plot.width = 8, repr.plot.height = 6)\n",
    "\n",
    "ggplot(riders_time_biketypes, aes(x = bike, y = avg_time, fill = avg_time)) +\n",
    "    geom_col() + \n",
    "    geom_text(aes(label = avg_time), vjust = 2, size = 8, color = \"grey20\", fontface = \"bold\") +\n",
    "scale_fill_gradient(high = \"#42a0ab\", low = \"#91d8e0\") +\n",
    "facet_wrap(~user) +\n",
    "    labs(title = \"Average time spent by riders on bikes\", subtitle = \"On the average, casual riders using docked bikes spend the most time on rides\",\n",
    "        caption = \"Data: Motivate International\", x = \"Type of Bike\", y = \"Average time spent (mins)\") +\n",
    "theme_minimal() +\n",
    "    theme(plot.title = element_text(size = 22, color = \"#42a0ab\", face = \"bold\"), \n",
    "    plot.subtitle = element_text(size = 14, color = \"grey20\", face = \"bold\"), \n",
    "    plot.caption = element_text(size = 8, color = \"grey35\"),\n",
    "    axis.title.x = element_text(size = 15, color = \"#42a0ab\", face = \"bold\"), \n",
    "    axis.title.y = element_text(size = 15, color = \"#42a0ab\", face = \"bold\"), \n",
    "    axis.text.x = element_text(size = 10, color = \"grey20\", face = \"bold\"),\n",
    "    axis.text.y = element_blank(),\n",
    "    legend.position = \"none\")"
   ]
  },
  {
   "cell_type": "code",
   "execution_count": 24,
   "id": "137a20b6",
   "metadata": {
    "execution": {
     "iopub.execute_input": "2024-06-15T22:34:04.465069Z",
     "iopub.status.busy": "2024-06-15T22:34:04.462939Z",
     "iopub.status.idle": "2024-06-15T22:34:04.771240Z",
     "shell.execute_reply": "2024-06-15T22:34:04.768585Z"
    },
    "papermill": {
     "duration": 0.345849,
     "end_time": "2024-06-15T22:34:04.774430",
     "exception": false,
     "start_time": "2024-06-15T22:34:04.428581",
     "status": "completed"
    },
    "tags": []
   },
   "outputs": [
    {
     "data": {
      "image/png": "[encoded data removed]"
     },
     "metadata": {
      "image/png": {
       "height": 360,
       "width": 480
      }
     },
     "output_type": "display_data"
    }
   ],
   "source": [
    "options(repr.plot.width = 8, repr.plot.height = 6)\n",
    "\n",
    "ggplot(riders_dist_user, aes(x = user, y = avg_dist, fill = avg_dist)) +\n",
    "    geom_col(width = 0.8) + \n",
    "    geom_text(aes(label = avg_dist), vjust = 2, size = 8, color = \"grey20\", fontface = \"bold\") +\n",
    "scale_fill_gradient(high = \"#42a0ab\", low = \"#91d8e0\") +\n",
    "    labs(title = \"Average distance travelled by riders on bikes\", subtitle = \"On the average, casual riders go slightly father than members\",\n",
    "        caption = \"Data: Motivate International\", x = \"User\", y = \"Average distance (km)\") +\n",
    "theme_minimal() +\n",
    "    theme(plot.title = element_text(size = 22, color = \"#42a0ab\", face = \"bold\"), \n",
    "    plot.subtitle = element_text(size = 14, color = \"grey20\", face = \"bold\"), \n",
    "    plot.caption = element_text(size = 8, color = \"grey35\"),\n",
    "    axis.title.x = element_text(size = 15, color = \"#42a0ab\", face = \"bold\"), \n",
    "    axis.title.y = element_text(size = 15, color = \"#42a0ab\", face = \"bold\"), \n",
    "    axis.text.x = element_text(size = 14, color = \"grey20\", face = \"bold\"),\n",
    "    axis.text.y = element_blank(),\n",
    "    legend.position = \"none\")"
   ]
  },
  {
   "cell_type": "code",
   "execution_count": 25,
   "id": "1aa5e84c",
   "metadata": {
    "execution": {
     "iopub.execute_input": "2024-06-15T22:34:04.845482Z",
     "iopub.status.busy": "2024-06-15T22:34:04.843281Z",
     "iopub.status.idle": "2024-06-15T22:34:05.283674Z",
     "shell.execute_reply": "2024-06-15T22:34:05.281235Z"
    },
    "papermill": {
     "duration": 0.478898,
     "end_time": "2024-06-15T22:34:05.286874",
     "exception": false,
     "start_time": "2024-06-15T22:34:04.807976",
     "status": "completed"
    },
    "tags": []
   },
   "outputs": [
    {
     "data": {
      "image/png": "[encoded data removed]"
     },
     "metadata": {
      "image/png": {
       "height": 360,
       "width": 480
      }
     },
     "output_type": "display_data"
    }
   ],
   "source": [
    "options(repr.plot.width = 8, repr.plot.height = 6)\n",
    "\n",
    "ggplot(riders_dist_biketypes, aes(x = bike, y = avg_dist, fill = avg_dist)) +\n",
    "    geom_col() + \n",
    "    geom_text(aes(label = avg_dist), vjust = 2, size = 8, color = \"grey20\", fontface = \"bold\") +\n",
    "scale_fill_gradient(high = \"#42a0ab\", low = \"#91d8e0\") +\n",
    "facet_wrap(~user) +\n",
    "    labs(title = \"Average time spent by riders on bikes\", subtitle = \"Both casual and members ride the electric bike the farthest\",\n",
    "        caption = \"Data: Motivate International\", x = \"Type of Bike\", y = \"Average distance (km)\") +\n",
    "theme_minimal() +\n",
    "    theme(plot.title = element_text(size = 22, color = \"#42a0ab\", face = \"bold\"), \n",
    "    plot.subtitle = element_text(size = 14, color = \"grey20\", face = \"bold\"), \n",
    "    plot.caption = element_text(size = 8, color = \"grey35\"),\n",
    "    axis.title.x = element_text(size = 15, color = \"#42a0ab\", face = \"bold\"), \n",
    "    axis.title.y = element_text(size = 15, color = \"#42a0ab\", face = \"bold\"), \n",
    "    axis.text.x = element_text(size = 10, color = \"grey20\", face = \"bold\"),\n",
    "    axis.text.y = element_blank(),\n",
    "    legend.position = \"none\")"
   ]
  },
  {
   "cell_type": "code",
   "execution_count": 26,
   "id": "50d12914",
   "metadata": {
    "execution": {
     "iopub.execute_input": "2024-06-15T22:34:05.358963Z",
     "iopub.status.busy": "2024-06-15T22:34:05.356786Z",
     "iopub.status.idle": "2024-06-15T22:34:05.729331Z",
     "shell.execute_reply": "2024-06-15T22:34:05.726783Z"
    },
    "papermill": {
     "duration": 0.413371,
     "end_time": "2024-06-15T22:34:05.732890",
     "exception": false,
     "start_time": "2024-06-15T22:34:05.319519",
     "status": "completed"
    },
    "tags": []
   },
   "outputs": [
    {
     "data": {
      "image/png": "[encoded data removed]"
     },
     "metadata": {
      "image/png": {
       "height": 480,
       "width": 720
      }
     },
     "output_type": "display_data"
    }
   ],
   "source": [
    "options(repr.plot.width = 12, repr.plot.height = 8)\n",
    "options(scipen=999)\n",
    "setwd(\"/kaggle/working\")\n",
    "\n",
    "ggplot(hour, aes(hour, numberofrides, fill = user, group = user)) +\n",
    "geom_bar(stat = \"identity\") +\n",
    "scale_fill_manual(values = c(\"#91d8e0\", \"#42a0ab\"), name = \"Types of riders\", breaks = c(\"casual\", \"member\"), labels = c(\"Casual Member\", \"Annual Member\")) +\n",
    "labs(title = \"Rides Throughout the Day\", subtitle = \"Rides peak during early evening hours\",\n",
    "    caption = \"Data: Motivate International\",\n",
    "    x = \"Hour\", y = \"Number of Rides\") +\n",
    "theme_minimal() +\n",
    "theme(plot.title = element_text(size = 22, color = \"#42a0ab\", face = \"bold\"), \n",
    "    plot.subtitle = element_text(size = 14, color = \"grey20\", face = \"bold\"), \n",
    "    plot.caption = element_text(size = 8, color = \"grey35\"),\n",
    "    legend.title = element_text(size = 16, face = \"bold\", color = \"#42a0ab\"),\n",
    "    legend.text = element_text(size = 14, color = \"grey20\"),\n",
    "    axis.title.x = element_text(size = 15, color = \"#42a0ab\", face = \"bold\"), \n",
    "    axis.title.y = element_text(size = 15, color = \"#42a0ab\", face = \"bold\"),\n",
    "    axis.text.x = element_text(size = 10, color = \"grey20\", face = \"bold\"),\n",
    "    axis.text.y = element_text(size = 10, color = \"grey20\", face = \"bold\"))"
   ]
  },
  {
   "cell_type": "code",
   "execution_count": 27,
   "id": "eb9eef17",
   "metadata": {
    "execution": {
     "iopub.execute_input": "2024-06-15T22:34:05.806589Z",
     "iopub.status.busy": "2024-06-15T22:34:05.804379Z",
     "iopub.status.idle": "2024-06-15T22:34:06.188158Z",
     "shell.execute_reply": "2024-06-15T22:34:06.184928Z"
    },
    "papermill": {
     "duration": 0.426767,
     "end_time": "2024-06-15T22:34:06.193290",
     "exception": false,
     "start_time": "2024-06-15T22:34:05.766523",
     "status": "completed"
    },
    "tags": []
   },
   "outputs": [
    {
     "data": {
      "image/png": "[encoded data removed]"
     },
     "metadata": {
      "image/png": {
       "height": 480,
       "width": 720
      }
     },
     "output_type": "display_data"
    }
   ],
   "source": [
    "options(repr.plot.width = 12, repr.plot.height = 8)\n",
    "options(scipen=999)\n",
    "setwd(\"/kaggle/working\")\n",
    "\n",
    "ggplot(dayofweek, aes(day_of_week, numberofrides, fill = user, group = user)) +\n",
    "geom_bar(stat = \"identity\") +\n",
    "scale_fill_manual(values = c(\"#91d8e0\", \"#42a0ab\"), name = \"Types of riders\", breaks = c(\"casual\", \"member\"), labels = c(\"Casual Member\", \"Annual Member\")) +\n",
    "labs(title = \"Day of the Week Riders\", subtitle = \"Rides happened the most during the weekend\",\n",
    "    caption = \"Data: Motivate International\",\n",
    "    x = \"Day of Week\", y = \"Number of Rides\") +\n",
    "theme_minimal() +\n",
    "theme(plot.title = element_text(size = 22, color = \"#42a0ab\", face = \"bold\"), \n",
    "    plot.subtitle = element_text(size = 14, color = \"grey20\", face = \"bold\"), \n",
    "    plot.caption = element_text(size = 8, color = \"grey35\"),\n",
    "    legend.title = element_text(size = 16, face = \"bold\", color = \"#42a0ab\"),\n",
    "    legend.text = element_text(size = 14, color = \"grey20\"),\n",
    "    axis.title.x = element_text(size = 15, color = \"#42a0ab\", face = \"bold\"), \n",
    "    axis.title.y = element_text(size = 15, color = \"#42a0ab\", face = \"bold\"),\n",
    "    axis.text.x = element_text(size = 10, color = \"grey20\", face = \"bold\"),\n",
    "    axis.text.y = element_text(size = 10, color = \"grey20\", face = \"bold\"))"
   ]
  },
  {
   "cell_type": "code",
   "execution_count": 28,
   "id": "f0d99085",
   "metadata": {
    "execution": {
     "iopub.execute_input": "2024-06-15T22:34:06.271548Z",
     "iopub.status.busy": "2024-06-15T22:34:06.269211Z",
     "iopub.status.idle": "2024-06-15T22:34:06.629775Z",
     "shell.execute_reply": "2024-06-15T22:34:06.627126Z"
    },
    "papermill": {
     "duration": 0.402853,
     "end_time": "2024-06-15T22:34:06.633035",
     "exception": false,
     "start_time": "2024-06-15T22:34:06.230182",
     "status": "completed"
    },
    "tags": []
   },
   "outputs": [
    {
     "data": {
      "image/png": "[encoded data removed]"
     },
     "metadata": {
      "image/png": {
       "height": 480,
       "width": 720
      }
     },
     "output_type": "display_data"
    }
   ],
   "source": [
    "options(repr.plot.width = 12, repr.plot.height = 8)\n",
    "options(scipen=999)\n",
    "setwd(\"/kaggle/working\")\n",
    "\n",
    "ggplot(month, aes(month, numberofrides, fill = user, group = user)) +\n",
    "geom_bar(stat = \"identity\") +\n",
    "scale_fill_manual(values = c(\"#91d8e0\", \"#42a0ab\"), name = \"Types of riders\", breaks = c(\"casual\", \"member\"), labels = c(\"Casual Member\", \"Annual Member\")) +\n",
    "labs(title = \"Monthly Rides\",\n",
    "    caption = \"Data: Motivate International\", subtitle = \"The summer months have the most number of rides\",\n",
    "    x = \"Month\", y = \"Number of Rides\") +\n",
    "theme_minimal() +\n",
    "theme(plot.title = element_text(size = 22, color = \"#42a0ab\", face = \"bold\"), \n",
    "    plot.subtitle = element_text(size = 14, color = \"grey20\", face = \"bold\"), \n",
    "    plot.caption = element_text(size = 8, color = \"grey35\"),\n",
    "    legend.title = element_text(size = 16, face = \"bold\", color = \"#42a0ab\"),\n",
    "    legend.text = element_text(size = 14, color = \"grey20\"),\n",
    "    axis.title.x = element_text(size = 15, color = \"#42a0ab\", face = \"bold\"), \n",
    "    axis.title.y = element_text(size = 15, color = \"#42a0ab\", face = \"bold\"),\n",
    "    axis.text.x = element_text(size = 10, color = \"grey20\", face = \"bold\"),\n",
    "    axis.text.y = element_text(size = 10, color = \"grey20\", face = \"bold\"))"
   ]
  },
  {
   "cell_type": "markdown",
   "id": "e6844a2a",
   "metadata": {
    "papermill": {
     "duration": 0.035955,
     "end_time": "2024-06-15T22:34:06.705280",
     "exception": false,
     "start_time": "2024-06-15T22:34:06.669325",
     "status": "completed"
    },
    "tags": []
   },
   "source": [
    "## Act\n",
    "\n",
    "From the analysis performed on the data provided, I have the following recommendations:\n",
    "\n",
    "1. Have a advertising campaign to casual riders leading into the summer months.\n",
    "\n",
    "2. Inform the casual riders how much they can save if they were to convert to a member by providing promotions throughout the year such as a free trial or a discount throughout the summer months.\n",
    "\n",
    "3. Create a reward program to the members and that might help incentavise the casual user to become a member\n",
    "\n",
    "4. Make docked bikes avaliable in the annual membership"
   ]
  },
  {
   "cell_type": "markdown",
   "id": "990aa56b",
   "metadata": {
    "papermill": {
     "duration": 0.037009,
     "end_time": "2024-06-15T22:34:06.778430",
     "exception": false,
     "start_time": "2024-06-15T22:34:06.741421",
     "status": "completed"
    },
    "tags": []
   },
   "source": [
    "# This was a Case Study for the Google Data Analytics Certificate."
   ]
  }
 ],
 "metadata": {
  "kaggle": {
   "accelerator": "none",
   "dataSources": [
    {
     "datasetId": 4779204,
     "sourceId": 8094585,
     "sourceType": "datasetVersion"
    }
   ],
   "dockerImageVersionId": 30618,
   "isGpuEnabled": false,
   "isInternetEnabled": true,
   "language": "r",
   "sourceType": "notebook"
  },
  "kernelspec": {
   "display_name": "R",
   "language": "R",
   "name": "ir"
  },
  "language_info": {
   "codemirror_mode": "r",
   "file_extension": ".r",
   "mimetype": "text/x-r-source",
   "name": "R",
   "pygments_lexer": "r",
   "version": "4.0.5"
  },
  "papermill": {
   "default_parameters": {},
   "duration": 489.81216,
   "end_time": "2024-06-15T22:34:07.340853",
   "environment_variables": {},
   "exception": null,
   "input_path": "__notebook__.ipynb",
   "output_path": "__notebook__.ipynb",
   "parameters": {},
   "start_time": "2024-06-15T22:25:57.528693",
   "version": "2.5.0"
  }
 },
 "nbformat": 4,
 "nbformat_minor": 5
}
